{
 "cells": [
  {
   "cell_type": "code",
   "execution_count": 19,
   "metadata": {},
   "outputs": [],
   "source": [
    "from transformers import BertConfig, BertModel, AutoTokenizer, TrainingArguments, AutoModelForSequenceClassification, Trainer, DataCollatorWithPadding\n",
    "from sklearn.model_selection import train_test_split\n",
    "from sklearn import preprocessing\n",
    "import torch\n",
    "import pandas as pd\n",
    "from datasets import load_dataset, Dataset, DatasetDict, ClassLabel\n",
    "import numpy as np\n",
    "from sklearn.metrics import accuracy_score, f1_score, confusion_matrix, classification_report, ConfusionMatrixDisplay\n",
    "import seaborn as sns\n",
    "\n",
    "import matplotlib.pyplot as plt\n",
    "from collections import Counter\n"
   ]
  },
  {
   "cell_type": "code",
   "execution_count": 54,
   "metadata": {},
   "outputs": [
    {
     "data": {
      "text/plain": [
       "True"
      ]
     },
     "execution_count": 54,
     "metadata": {},
     "output_type": "execute_result"
    }
   ],
   "source": [
    "torch.cuda.is_available()"
   ]
  },
  {
   "cell_type": "code",
   "execution_count": 55,
   "metadata": {},
   "outputs": [],
   "source": [
    "tokenizer = AutoTokenizer.from_pretrained(\"TurkuNLP/bert-base-finnish-cased-v1\")"
   ]
  },
  {
   "cell_type": "code",
   "execution_count": 56,
   "metadata": {},
   "outputs": [
    {
     "name": "stderr",
     "output_type": "stream",
     "text": [
      "C:\\Users\\joakim\\AppData\\Local\\Temp\\ipykernel_20584\\3043923669.py:3: ParserWarning: Falling back to the 'python' engine because the separator encoded in utf-8 is > 1 char long, and the 'c' engine does not support such separators; you can avoid this warning by specifying engine='python'.\n",
      "  df = pd.read_csv(dataSetPath, sep=\"␞\", nrows=200000)\n"
     ]
    },
    {
     "name": "stdout",
     "output_type": "stream",
     "text": [
      "612 invalid data\n",
      "199388 valid data\n",
      "Index(['id', 'url', 'headline', 'text', 'subjects', 'datePublished'], dtype='object')\n",
      "10 categories\n",
      "['urheilu', 'kulttuuri', 'talous', 'luonto', 'Onnettomuudet', 'politiikka', 'Rikokset', 'Liikenne_ja_kuljetus', 'Koulutus_ja_kasvatus', 'Terveys']\n"
     ]
    }
   ],
   "source": [
    "# Loading dataset\n",
    "dataSetPath = \"yle_data/2011-2018-SubjectsInPaper-1.csv\"\n",
    "df = pd.read_csv(dataSetPath, sep=\"␞\", nrows=200000)\n",
    "\n",
    "\n",
    "print(df['text'].isna().sum(), \"invalid data\")\n",
    "df = df.dropna(subset=['text'])\n",
    "print(len(df), \"valid data\")\n",
    "\n",
    "print(df.columns)\n",
    "df = df.drop(['id', 'url', 'headline', 'datePublished'], axis=1) \n",
    "\n",
    "\n",
    "def multiLabelToSingular(labelArray):\n",
    "    cleaned_text = labelArray.replace(\"'\", \"\").replace(\" \", \"\").replace(\"[\", \"\").replace(\"]\", \"\")\n",
    "    return cleaned_text.split(\",\")[0]\n",
    "\n",
    "\n",
    "# print(df.dtypes)\n",
    "df['subjects'] = df['subjects'].apply(multiLabelToSingular)\n",
    "\n",
    "print(df['subjects'].nunique(), \"categories\")\n",
    "print(df['subjects'].unique().tolist())\n",
    "\n",
    "df.rename({'subjects': 'labels'}, axis=\"columns\", inplace=True)\n",
    "\n"
   ]
  },
  {
   "cell_type": "code",
   "execution_count": null,
   "metadata": {},
   "outputs": [
    {
     "name": "stdout",
     "output_type": "stream",
     "text": [
      "Koulutus_ja_kasvatus    10753\n",
      "Liikenne_ja_kuljetus    13554\n",
      "Onnettomuudet           10717\n",
      "Rikokset                 8166\n",
      "Terveys                  8600\n",
      "kulttuuri               13794\n",
      "luonto                  10994\n",
      "politiikka              12961\n",
      "talous                  24427\n",
      "urheilu                 85422\n",
      "Name: labels, dtype: int64\n",
      "0    10753\n",
      "1    13554\n",
      "2    10717\n",
      "3     8166\n",
      "4     8600\n",
      "5    13794\n",
      "6    10994\n",
      "7    12961\n",
      "8    24427\n",
      "9    85422\n",
      "Name: labels, dtype: int64\n"
     ]
    }
   ],
   "source": [
    "# paperin luokat:\n",
    "\n",
    "# urheilu \"18-220090\",\n",
    "# talous \"18-204933\",\n",
    "# politiikka \"18-220306\",\n",
    "# kulttuuri \"18-208149\",\n",
    "# luonto \"18-215452\",\n",
    "# 18-218480 - Onnettomuudet\n",
    "# 18-209306 - Terveys\n",
    "# 18-217206 - Rikokset\n",
    "# 18-91232 - Liikenne ja kuljetus\n",
    "# 18-35286 - Koulutus ja kasvatus\n",
    "\n",
    "label_mapping = {\n",
    "    \"Koulutus_ja_kasvatus\": 0,\n",
    "    \"Liikenne_ja_kuljetus\": 1,\n",
    "    \"Onnettomuudet\": 2,\n",
    "    \"Rikokset\": 3,\n",
    "    \"Terveys\": 4,\n",
    "    \"kulttuuri\": 5,\n",
    "    \"luonto\": 6,\n",
    "    \"politiikka\": 7,\n",
    "    \"talous\": 8,\n",
    "    \"urheilu\": 9\n",
    "}\n",
    "\n",
    "to_labels = {y: x for x, y in label_mapping.items()}\n",
    "\n",
    "print(df['labels'].value_counts().sort_index(ascending=True))\n",
    "df[\"labels\"] = df[\"labels\"].map(label_mapping)\n",
    "print(df['labels'].value_counts().sort_index(ascending=True))\n"
   ]
  },
  {
   "cell_type": "code",
   "execution_count": 58,
   "metadata": {},
   "outputs": [
    {
     "name": "stdout",
     "output_type": "stream",
     "text": [
      "2500 documents\n",
      "0    250\n",
      "1    250\n",
      "2    250\n",
      "3    250\n",
      "4    250\n",
      "5    250\n",
      "6    250\n",
      "7    250\n",
      "8    250\n",
      "9    250\n",
      "Name: labels, dtype: int64\n"
     ]
    }
   ],
   "source": [
    "n_sample = 250\n",
    "df_balanced = df.groupby('labels').head(n_sample)\n",
    "df_balanced = df.groupby('labels').apply(lambda x: x.sample(n=n_sample))\n",
    "\n",
    "print(len(df_balanced), \"documents\")\n",
    "print(df_balanced['labels'].value_counts().sort_index(ascending=True))\n"
   ]
  },
  {
   "cell_type": "code",
   "execution_count": 59,
   "metadata": {},
   "outputs": [
    {
     "data": {
      "text/plain": [
       "Dataset({\n",
       "    features: ['text', 'labels'],\n",
       "    num_rows: 2500\n",
       "})"
      ]
     },
     "execution_count": 59,
     "metadata": {},
     "output_type": "execute_result"
    }
   ],
   "source": [
    "dataset = Dataset.from_pandas(df_balanced, preserve_index=False)\n",
    "dataset"
   ]
  },
  {
   "cell_type": "code",
   "execution_count": 60,
   "metadata": {},
   "outputs": [
    {
     "name": "stdout",
     "output_type": "stream",
     "text": [
      "DatasetDict({\n",
      "    train: Dataset({\n",
      "        features: ['text', 'labels'],\n",
      "        num_rows: 1800\n",
      "    })\n",
      "    validation: Dataset({\n",
      "        features: ['text', 'labels'],\n",
      "        num_rows: 200\n",
      "    })\n",
      "    test: Dataset({\n",
      "        features: ['text', 'labels'],\n",
      "        num_rows: 500\n",
      "    })\n",
      "})\n"
     ]
    }
   ],
   "source": [
    "\n",
    "train_test_split = dataset.train_test_split(test_size=0.2)\n",
    "\n",
    "train_valid_split = train_test_split['train'].train_test_split(test_size=0.1)\n",
    "\n",
    "datasets = DatasetDict({\n",
    "    'train': train_valid_split['train'],\n",
    "    'validation': train_valid_split['test'],\n",
    "    'test': train_test_split['test']\n",
    "})\n",
    "print(datasets)"
   ]
  },
  {
   "cell_type": "code",
   "execution_count": 61,
   "metadata": {},
   "outputs": [
    {
     "name": "stdout",
     "output_type": "stream",
     "text": [
      "{0, 1, 2, 3, 4, 5, 6, 7, 8, 9}\n"
     ]
    }
   ],
   "source": [
    "unique_values = set(datasets[\"train\"][\"labels\"])\n",
    "print(unique_values)\n"
   ]
  },
  {
   "cell_type": "code",
   "execution_count": 62,
   "metadata": {},
   "outputs": [],
   "source": [
    "def tokenize_function(example):\n",
    "    tokenized = tokenizer(example[\"text\"], truncation=True)\n",
    "    return tokenized"
   ]
  },
  {
   "cell_type": "code",
   "execution_count": 63,
   "metadata": {},
   "outputs": [
    {
     "data": {
      "application/vnd.jupyter.widget-view+json": {
       "model_id": "a54595371b044a249a9eea4a1beff26f",
       "version_major": 2,
       "version_minor": 0
      },
      "text/plain": [
       "Map:   0%|          | 0/1800 [00:00<?, ? examples/s]"
      ]
     },
     "metadata": {},
     "output_type": "display_data"
    },
    {
     "data": {
      "application/vnd.jupyter.widget-view+json": {
       "model_id": "7559114301f54dba8508085a05c9ab11",
       "version_major": 2,
       "version_minor": 0
      },
      "text/plain": [
       "Map:   0%|          | 0/200 [00:00<?, ? examples/s]"
      ]
     },
     "metadata": {},
     "output_type": "display_data"
    },
    {
     "data": {
      "application/vnd.jupyter.widget-view+json": {
       "model_id": "7a426b7d105445b2927452c37c053172",
       "version_major": 2,
       "version_minor": 0
      },
      "text/plain": [
       "Map:   0%|          | 0/500 [00:00<?, ? examples/s]"
      ]
     },
     "metadata": {},
     "output_type": "display_data"
    },
    {
     "data": {
      "text/plain": [
       "DatasetDict({\n",
       "    train: Dataset({\n",
       "        features: ['text', 'labels', 'input_ids', 'token_type_ids', 'attention_mask'],\n",
       "        num_rows: 1800\n",
       "    })\n",
       "    validation: Dataset({\n",
       "        features: ['text', 'labels', 'input_ids', 'token_type_ids', 'attention_mask'],\n",
       "        num_rows: 200\n",
       "    })\n",
       "    test: Dataset({\n",
       "        features: ['text', 'labels', 'input_ids', 'token_type_ids', 'attention_mask'],\n",
       "        num_rows: 500\n",
       "    })\n",
       "})"
      ]
     },
     "execution_count": 63,
     "metadata": {},
     "output_type": "execute_result"
    }
   ],
   "source": [
    "\n",
    "tokenized_datasets = datasets.map(tokenize_function, batched=True)\n",
    "data_collator = DataCollatorWithPadding(tokenizer=tokenizer)\n",
    "\n",
    "tokenized_datasets\n",
    "\n"
   ]
  },
  {
   "cell_type": "code",
   "execution_count": 64,
   "metadata": {},
   "outputs": [],
   "source": [
    "def compute_metrics(eval_pred):\n",
    "    logits, labels = eval_pred\n",
    "    predictions = logits.argmax(axis=-1)\n",
    "    accuracy = accuracy_score(labels, predictions)\n",
    "    f1 = f1_score(labels, predictions, average='weighted')\n",
    "    return {\"accuracy\": accuracy, \"f1\": f1}\n",
    "\n",
    "training_args = TrainingArguments(\n",
    "    output_dir=\"./logs\",                    \n",
    "    evaluation_strategy=\"steps\",        \n",
    "    eval_steps=50,                      \n",
    "    logging_dir=\"./logs\",                \n",
    "    logging_steps=50,                   \n",
    "    save_steps=500,                      \n",
    "    per_device_train_batch_size=8,       \n",
    "    per_device_eval_batch_size=16,       \n",
    "    num_train_epochs=5,                  \n",
    "    save_total_limit=2,                  \n",
    "    load_best_model_at_end=True,         \n",
    "    metric_for_best_model=\"f1\",          \n",
    "    greater_is_better=True,              \n",
    "    report_to=\"tensorboard\",            \n",
    ")\n",
    "\n",
    "\n",
    "\n"
   ]
  },
  {
   "cell_type": "code",
   "execution_count": 65,
   "metadata": {},
   "outputs": [
    {
     "name": "stderr",
     "output_type": "stream",
     "text": [
      "Some weights of BertForSequenceClassification were not initialized from the model checkpoint at TurkuNLP/bert-base-finnish-cased-v1 and are newly initialized: ['classifier.bias', 'classifier.weight']\n",
      "You should probably TRAIN this model on a down-stream task to be able to use it for predictions and inference.\n",
      "c:\\Users\\joakim\\anaconda3\\lib\\site-packages\\accelerate\\accelerator.py:432: FutureWarning: Passing the following arguments to `Accelerator` is deprecated and will be removed in version 1.0 of Accelerate: dict_keys(['dispatch_batches']). Please pass an `accelerate.DataLoaderConfiguration` instead: \n",
      "dataloader_config = DataLoaderConfiguration(dispatch_batches=None)\n",
      "  warnings.warn(\n"
     ]
    }
   ],
   "source": [
    "model = AutoModelForSequenceClassification.from_pretrained(\"TurkuNLP/bert-base-finnish-cased-v1\", num_labels=11, device_map = 'cuda')\n",
    "\n",
    "\n",
    "trainer = Trainer(\n",
    "    model=model,\n",
    "    args=training_args,\n",
    "    train_dataset=tokenized_datasets[\"train\"],\n",
    "    eval_dataset=tokenized_datasets[\"validation\"],\n",
    "    tokenizer=tokenizer,\n",
    "    data_collator=data_collator,\n",
    "    compute_metrics=compute_metrics,\n",
    ")"
   ]
  },
  {
   "cell_type": "code",
   "execution_count": 66,
   "metadata": {},
   "outputs": [
    {
     "data": {
      "application/vnd.jupyter.widget-view+json": {
       "model_id": "ee00a8731882413fb2517da2f0ca887f",
       "version_major": 2,
       "version_minor": 0
      },
      "text/plain": [
       "  0%|          | 0/1125 [00:00<?, ?it/s]"
      ]
     },
     "metadata": {},
     "output_type": "display_data"
    },
    {
     "name": "stderr",
     "output_type": "stream",
     "text": [
      "You're using a BertTokenizerFast tokenizer. Please note that with a fast tokenizer, using the `__call__` method is faster than using a method to encode the text followed by a call to the `pad` method to get a padded encoding.\n"
     ]
    },
    {
     "name": "stdout",
     "output_type": "stream",
     "text": [
      "{'loss': 1.7289, 'learning_rate': 4.7777777777777784e-05, 'epoch': 0.22}\n"
     ]
    },
    {
     "data": {
      "application/vnd.jupyter.widget-view+json": {
       "model_id": "04a3ccc9b38d4f2eb015dea3477af71f",
       "version_major": 2,
       "version_minor": 0
      },
      "text/plain": [
       "  0%|          | 0/13 [00:00<?, ?it/s]"
      ]
     },
     "metadata": {},
     "output_type": "display_data"
    },
    {
     "name": "stdout",
     "output_type": "stream",
     "text": [
      "{'eval_loss': 1.1251718997955322, 'eval_accuracy': 0.675, 'eval_f1': 0.6437577030812325, 'eval_runtime': 24.603, 'eval_samples_per_second': 8.129, 'eval_steps_per_second': 0.528, 'epoch': 0.22}\n",
      "{'loss': 0.9041, 'learning_rate': 4.555555555555556e-05, 'epoch': 0.44}\n"
     ]
    },
    {
     "data": {
      "application/vnd.jupyter.widget-view+json": {
       "model_id": "7463fe1905e64bf3aa2cb04dd946eaa7",
       "version_major": 2,
       "version_minor": 0
      },
      "text/plain": [
       "  0%|          | 0/13 [00:00<?, ?it/s]"
      ]
     },
     "metadata": {},
     "output_type": "display_data"
    },
    {
     "name": "stdout",
     "output_type": "stream",
     "text": [
      "{'eval_loss': 0.8561595678329468, 'eval_accuracy': 0.77, 'eval_f1': 0.7673512613425649, 'eval_runtime': 24.5193, 'eval_samples_per_second': 8.157, 'eval_steps_per_second': 0.53, 'epoch': 0.44}\n",
      "{'loss': 0.5997, 'learning_rate': 4.3333333333333334e-05, 'epoch': 0.67}\n"
     ]
    },
    {
     "data": {
      "application/vnd.jupyter.widget-view+json": {
       "model_id": "8de9e585f32b4b7d840a352d6fecd166",
       "version_major": 2,
       "version_minor": 0
      },
      "text/plain": [
       "  0%|          | 0/13 [00:00<?, ?it/s]"
      ]
     },
     "metadata": {},
     "output_type": "display_data"
    },
    {
     "name": "stdout",
     "output_type": "stream",
     "text": [
      "{'eval_loss': 0.6176073551177979, 'eval_accuracy': 0.835, 'eval_f1': 0.8361348218431169, 'eval_runtime': 24.6213, 'eval_samples_per_second': 8.123, 'eval_steps_per_second': 0.528, 'epoch': 0.67}\n",
      "{'loss': 0.6322, 'learning_rate': 4.111111111111111e-05, 'epoch': 0.89}\n"
     ]
    },
    {
     "data": {
      "application/vnd.jupyter.widget-view+json": {
       "model_id": "f7353ea4853d4446882e633e5ecf0228",
       "version_major": 2,
       "version_minor": 0
      },
      "text/plain": [
       "  0%|          | 0/13 [00:00<?, ?it/s]"
      ]
     },
     "metadata": {},
     "output_type": "display_data"
    },
    {
     "name": "stdout",
     "output_type": "stream",
     "text": [
      "{'eval_loss': 0.621614933013916, 'eval_accuracy': 0.845, 'eval_f1': 0.8447957292707292, 'eval_runtime': 24.6083, 'eval_samples_per_second': 8.127, 'eval_steps_per_second': 0.528, 'epoch': 0.89}\n",
      "{'loss': 0.3854, 'learning_rate': 3.888888888888889e-05, 'epoch': 1.11}\n"
     ]
    },
    {
     "data": {
      "application/vnd.jupyter.widget-view+json": {
       "model_id": "dd502977807743f4955a2500b09e62e0",
       "version_major": 2,
       "version_minor": 0
      },
      "text/plain": [
       "  0%|          | 0/13 [00:00<?, ?it/s]"
      ]
     },
     "metadata": {},
     "output_type": "display_data"
    },
    {
     "name": "stdout",
     "output_type": "stream",
     "text": [
      "{'eval_loss': 0.7770108580589294, 'eval_accuracy': 0.83, 'eval_f1': 0.8320755197771895, 'eval_runtime': 24.5146, 'eval_samples_per_second': 8.158, 'eval_steps_per_second': 0.53, 'epoch': 1.11}\n",
      "{'loss': 0.5159, 'learning_rate': 3.6666666666666666e-05, 'epoch': 1.33}\n"
     ]
    },
    {
     "data": {
      "application/vnd.jupyter.widget-view+json": {
       "model_id": "0f69d0362fb745daa0495fdc31b38b42",
       "version_major": 2,
       "version_minor": 0
      },
      "text/plain": [
       "  0%|          | 0/13 [00:00<?, ?it/s]"
      ]
     },
     "metadata": {},
     "output_type": "display_data"
    },
    {
     "name": "stdout",
     "output_type": "stream",
     "text": [
      "{'eval_loss': 0.6334629058837891, 'eval_accuracy': 0.84, 'eval_f1': 0.8384539850560864, 'eval_runtime': 27.5098, 'eval_samples_per_second': 7.27, 'eval_steps_per_second': 0.473, 'epoch': 1.33}\n",
      "{'loss': 0.3502, 'learning_rate': 3.444444444444445e-05, 'epoch': 1.56}\n"
     ]
    },
    {
     "data": {
      "application/vnd.jupyter.widget-view+json": {
       "model_id": "3036acc7d5584786b70396889484bf43",
       "version_major": 2,
       "version_minor": 0
      },
      "text/plain": [
       "  0%|          | 0/13 [00:00<?, ?it/s]"
      ]
     },
     "metadata": {},
     "output_type": "display_data"
    },
    {
     "name": "stdout",
     "output_type": "stream",
     "text": [
      "{'eval_loss': 0.6274635195732117, 'eval_accuracy': 0.875, 'eval_f1': 0.8750639578839529, 'eval_runtime': 27.596, 'eval_samples_per_second': 7.247, 'eval_steps_per_second': 0.471, 'epoch': 1.56}\n",
      "{'loss': 0.3984, 'learning_rate': 3.222222222222223e-05, 'epoch': 1.78}\n"
     ]
    },
    {
     "data": {
      "application/vnd.jupyter.widget-view+json": {
       "model_id": "faf293dd41af4bc5a8058378e32fb8a7",
       "version_major": 2,
       "version_minor": 0
      },
      "text/plain": [
       "  0%|          | 0/13 [00:00<?, ?it/s]"
      ]
     },
     "metadata": {},
     "output_type": "display_data"
    },
    {
     "name": "stdout",
     "output_type": "stream",
     "text": [
      "{'eval_loss': 0.7250350117683411, 'eval_accuracy': 0.825, 'eval_f1': 0.8243396907180438, 'eval_runtime': 27.4767, 'eval_samples_per_second': 7.279, 'eval_steps_per_second': 0.473, 'epoch': 1.78}\n",
      "{'loss': 0.3917, 'learning_rate': 3e-05, 'epoch': 2.0}\n"
     ]
    },
    {
     "data": {
      "application/vnd.jupyter.widget-view+json": {
       "model_id": "5dd55c575afa42b6ab27930c71bb2ee5",
       "version_major": 2,
       "version_minor": 0
      },
      "text/plain": [
       "  0%|          | 0/13 [00:00<?, ?it/s]"
      ]
     },
     "metadata": {},
     "output_type": "display_data"
    },
    {
     "name": "stdout",
     "output_type": "stream",
     "text": [
      "{'eval_loss': 0.6200496554374695, 'eval_accuracy': 0.845, 'eval_f1': 0.8452634113059813, 'eval_runtime': 28.3453, 'eval_samples_per_second': 7.056, 'eval_steps_per_second': 0.459, 'epoch': 2.0}\n",
      "{'loss': 0.1601, 'learning_rate': 2.777777777777778e-05, 'epoch': 2.22}\n"
     ]
    },
    {
     "data": {
      "application/vnd.jupyter.widget-view+json": {
       "model_id": "e3b72a0891354e2eb7167738fa8b52dd",
       "version_major": 2,
       "version_minor": 0
      },
      "text/plain": [
       "  0%|          | 0/13 [00:00<?, ?it/s]"
      ]
     },
     "metadata": {},
     "output_type": "display_data"
    },
    {
     "name": "stdout",
     "output_type": "stream",
     "text": [
      "{'eval_loss': 0.7166135907173157, 'eval_accuracy': 0.855, 'eval_f1': 0.8545415320261881, 'eval_runtime': 27.3991, 'eval_samples_per_second': 7.3, 'eval_steps_per_second': 0.474, 'epoch': 2.22}\n",
      "{'loss': 0.1778, 'learning_rate': 2.5555555555555554e-05, 'epoch': 2.44}\n"
     ]
    },
    {
     "data": {
      "application/vnd.jupyter.widget-view+json": {
       "model_id": "be38399d8d6b418ebd9ca1433bbe43c1",
       "version_major": 2,
       "version_minor": 0
      },
      "text/plain": [
       "  0%|          | 0/13 [00:00<?, ?it/s]"
      ]
     },
     "metadata": {},
     "output_type": "display_data"
    },
    {
     "name": "stdout",
     "output_type": "stream",
     "text": [
      "{'eval_loss': 0.7020710706710815, 'eval_accuracy': 0.855, 'eval_f1': 0.8552249738766982, 'eval_runtime': 27.7233, 'eval_samples_per_second': 7.214, 'eval_steps_per_second': 0.469, 'epoch': 2.44}\n",
      "{'loss': 0.2326, 'learning_rate': 2.3333333333333336e-05, 'epoch': 2.67}\n"
     ]
    },
    {
     "data": {
      "application/vnd.jupyter.widget-view+json": {
       "model_id": "ec319651adc44b6687c6201fbfa68474",
       "version_major": 2,
       "version_minor": 0
      },
      "text/plain": [
       "  0%|          | 0/13 [00:00<?, ?it/s]"
      ]
     },
     "metadata": {},
     "output_type": "display_data"
    },
    {
     "name": "stdout",
     "output_type": "stream",
     "text": [
      "{'eval_loss': 0.6882221698760986, 'eval_accuracy': 0.855, 'eval_f1': 0.8551070269720853, 'eval_runtime': 27.3692, 'eval_samples_per_second': 7.307, 'eval_steps_per_second': 0.475, 'epoch': 2.67}\n",
      "{'loss': 0.2834, 'learning_rate': 2.111111111111111e-05, 'epoch': 2.89}\n"
     ]
    },
    {
     "data": {
      "application/vnd.jupyter.widget-view+json": {
       "model_id": "6a4a9e8f210b4aa69bb8e273c6274437",
       "version_major": 2,
       "version_minor": 0
      },
      "text/plain": [
       "  0%|          | 0/13 [00:00<?, ?it/s]"
      ]
     },
     "metadata": {},
     "output_type": "display_data"
    },
    {
     "name": "stdout",
     "output_type": "stream",
     "text": [
      "{'eval_loss': 0.6227512359619141, 'eval_accuracy': 0.865, 'eval_f1': 0.864999285011521, 'eval_runtime': 27.8778, 'eval_samples_per_second': 7.174, 'eval_steps_per_second': 0.466, 'epoch': 2.89}\n",
      "{'loss': 0.1261, 'learning_rate': 1.888888888888889e-05, 'epoch': 3.11}\n"
     ]
    },
    {
     "data": {
      "application/vnd.jupyter.widget-view+json": {
       "model_id": "13de15062e594dea83775973138fa6ed",
       "version_major": 2,
       "version_minor": 0
      },
      "text/plain": [
       "  0%|          | 0/13 [00:00<?, ?it/s]"
      ]
     },
     "metadata": {},
     "output_type": "display_data"
    },
    {
     "name": "stdout",
     "output_type": "stream",
     "text": [
      "{'eval_loss': 0.6455174088478088, 'eval_accuracy': 0.86, 'eval_f1': 0.8604378176991417, 'eval_runtime': 27.7243, 'eval_samples_per_second': 7.214, 'eval_steps_per_second': 0.469, 'epoch': 3.11}\n",
      "{'loss': 0.1252, 'learning_rate': 1.6666666666666667e-05, 'epoch': 3.33}\n"
     ]
    },
    {
     "data": {
      "application/vnd.jupyter.widget-view+json": {
       "model_id": "2982072b981247afaf17c872c9c7ca41",
       "version_major": 2,
       "version_minor": 0
      },
      "text/plain": [
       "  0%|          | 0/13 [00:00<?, ?it/s]"
      ]
     },
     "metadata": {},
     "output_type": "display_data"
    },
    {
     "name": "stdout",
     "output_type": "stream",
     "text": [
      "{'eval_loss': 0.6806226372718811, 'eval_accuracy': 0.87, 'eval_f1': 0.8694761433852076, 'eval_runtime': 27.9694, 'eval_samples_per_second': 7.151, 'eval_steps_per_second': 0.465, 'epoch': 3.33}\n",
      "{'loss': 0.1011, 'learning_rate': 1.4444444444444444e-05, 'epoch': 3.56}\n"
     ]
    },
    {
     "data": {
      "application/vnd.jupyter.widget-view+json": {
       "model_id": "22d24b37c67943eb8e85eececa992226",
       "version_major": 2,
       "version_minor": 0
      },
      "text/plain": [
       "  0%|          | 0/13 [00:00<?, ?it/s]"
      ]
     },
     "metadata": {},
     "output_type": "display_data"
    },
    {
     "name": "stdout",
     "output_type": "stream",
     "text": [
      "{'eval_loss': 0.6874357461929321, 'eval_accuracy': 0.87, 'eval_f1': 0.8701111599302002, 'eval_runtime': 27.3648, 'eval_samples_per_second': 7.309, 'eval_steps_per_second': 0.475, 'epoch': 3.56}\n",
      "{'loss': 0.1344, 'learning_rate': 1.2222222222222222e-05, 'epoch': 3.78}\n"
     ]
    },
    {
     "data": {
      "application/vnd.jupyter.widget-view+json": {
       "model_id": "24dc3ab8b66d4c118d023aee86692e9f",
       "version_major": 2,
       "version_minor": 0
      },
      "text/plain": [
       "  0%|          | 0/13 [00:00<?, ?it/s]"
      ]
     },
     "metadata": {},
     "output_type": "display_data"
    },
    {
     "name": "stdout",
     "output_type": "stream",
     "text": [
      "{'eval_loss': 0.6856372356414795, 'eval_accuracy': 0.87, 'eval_f1': 0.8701027840756302, 'eval_runtime': 27.3275, 'eval_samples_per_second': 7.319, 'eval_steps_per_second': 0.476, 'epoch': 3.78}\n",
      "{'loss': 0.0918, 'learning_rate': 1e-05, 'epoch': 4.0}\n"
     ]
    },
    {
     "data": {
      "application/vnd.jupyter.widget-view+json": {
       "model_id": "3a15f9fbc25a41eea9c2205bd673527a",
       "version_major": 2,
       "version_minor": 0
      },
      "text/plain": [
       "  0%|          | 0/13 [00:00<?, ?it/s]"
      ]
     },
     "metadata": {},
     "output_type": "display_data"
    },
    {
     "name": "stdout",
     "output_type": "stream",
     "text": [
      "{'eval_loss': 0.7522280812263489, 'eval_accuracy': 0.87, 'eval_f1': 0.8703506491460263, 'eval_runtime': 27.3848, 'eval_samples_per_second': 7.303, 'eval_steps_per_second': 0.475, 'epoch': 4.0}\n",
      "{'loss': 0.0866, 'learning_rate': 7.777777777777777e-06, 'epoch': 4.22}\n"
     ]
    },
    {
     "data": {
      "application/vnd.jupyter.widget-view+json": {
       "model_id": "80998cc8631f429ca8485fcd46981c03",
       "version_major": 2,
       "version_minor": 0
      },
      "text/plain": [
       "  0%|          | 0/13 [00:00<?, ?it/s]"
      ]
     },
     "metadata": {},
     "output_type": "display_data"
    },
    {
     "name": "stdout",
     "output_type": "stream",
     "text": [
      "{'eval_loss': 0.7434725761413574, 'eval_accuracy': 0.865, 'eval_f1': 0.8644532522562358, 'eval_runtime': 29.5945, 'eval_samples_per_second': 6.758, 'eval_steps_per_second': 0.439, 'epoch': 4.22}\n",
      "{'loss': 0.0514, 'learning_rate': 5.555555555555556e-06, 'epoch': 4.44}\n"
     ]
    },
    {
     "data": {
      "application/vnd.jupyter.widget-view+json": {
       "model_id": "120ef19383f544759279b72564c1410f",
       "version_major": 2,
       "version_minor": 0
      },
      "text/plain": [
       "  0%|          | 0/13 [00:00<?, ?it/s]"
      ]
     },
     "metadata": {},
     "output_type": "display_data"
    },
    {
     "name": "stdout",
     "output_type": "stream",
     "text": [
      "{'eval_loss': 0.7369851469993591, 'eval_accuracy': 0.875, 'eval_f1': 0.8747264041373566, 'eval_runtime': 34.8107, 'eval_samples_per_second': 5.745, 'eval_steps_per_second': 0.373, 'epoch': 4.44}\n",
      "{'loss': 0.06, 'learning_rate': 3.3333333333333333e-06, 'epoch': 4.67}\n"
     ]
    },
    {
     "data": {
      "application/vnd.jupyter.widget-view+json": {
       "model_id": "3d0d8c4fc25e424ca126ee539e15c16e",
       "version_major": 2,
       "version_minor": 0
      },
      "text/plain": [
       "  0%|          | 0/13 [00:00<?, ?it/s]"
      ]
     },
     "metadata": {},
     "output_type": "display_data"
    },
    {
     "name": "stdout",
     "output_type": "stream",
     "text": [
      "{'eval_loss': 0.7365543842315674, 'eval_accuracy': 0.875, 'eval_f1': 0.8750570439179186, 'eval_runtime': 31.6183, 'eval_samples_per_second': 6.325, 'eval_steps_per_second': 0.411, 'epoch': 4.67}\n",
      "{'loss': 0.0881, 'learning_rate': 1.1111111111111112e-06, 'epoch': 4.89}\n"
     ]
    },
    {
     "data": {
      "application/vnd.jupyter.widget-view+json": {
       "model_id": "b8adef4624f340048d1a0a8aa0e8a622",
       "version_major": 2,
       "version_minor": 0
      },
      "text/plain": [
       "  0%|          | 0/13 [00:00<?, ?it/s]"
      ]
     },
     "metadata": {},
     "output_type": "display_data"
    },
    {
     "name": "stdout",
     "output_type": "stream",
     "text": [
      "{'eval_loss': 0.722608208656311, 'eval_accuracy': 0.87, 'eval_f1': 0.8699085091929085, 'eval_runtime': 31.4343, 'eval_samples_per_second': 6.362, 'eval_steps_per_second': 0.414, 'epoch': 4.89}\n"
     ]
    },
    {
     "name": "stderr",
     "output_type": "stream",
     "text": [
      "c:\\Users\\joakim\\anaconda3\\lib\\site-packages\\transformers\\trainer.py:2189: FutureWarning: You are using `torch.load` with `weights_only=False` (the current default value), which uses the default pickle module implicitly. It is possible to construct malicious pickle data which will execute arbitrary code during unpickling (See https://github.com/pytorch/pytorch/blob/main/SECURITY.md#untrusted-models for more details). In a future release, the default value for `weights_only` will be flipped to `True`. This limits the functions that could be executed during unpickling. Arbitrary objects will no longer be allowed to be loaded via this mode unless they are explicitly allowlisted by the user via `torch.serialization.add_safe_globals`. We recommend you start setting `weights_only=True` for any use case where you don't have full control of the loaded file. Please open an issue on GitHub for any issues related to this experimental feature.\n",
      "  state_dict = torch.load(best_model_path, map_location=\"cpu\")\n"
     ]
    },
    {
     "name": "stdout",
     "output_type": "stream",
     "text": [
      "{'train_runtime': 3435.6931, 'train_samples_per_second': 2.62, 'train_steps_per_second': 0.327, 'train_loss': 0.33906754088401797, 'epoch': 5.0}\n"
     ]
    },
    {
     "data": {
      "text/plain": [
       "TrainOutput(global_step=1125, training_loss=0.33906754088401797, metrics={'train_runtime': 3435.6931, 'train_samples_per_second': 2.62, 'train_steps_per_second': 0.327, 'train_loss': 0.33906754088401797, 'epoch': 5.0})"
      ]
     },
     "execution_count": 66,
     "metadata": {},
     "output_type": "execute_result"
    }
   ],
   "source": [
    "trainer.train()"
   ]
  },
  {
   "cell_type": "code",
   "execution_count": 67,
   "metadata": {},
   "outputs": [
    {
     "data": {
      "application/vnd.jupyter.widget-view+json": {
       "model_id": "a24938cb569e4f72b795dab965ce9a54",
       "version_major": 2,
       "version_minor": 0
      },
      "text/plain": [
       "  0%|          | 0/32 [00:00<?, ?it/s]"
      ]
     },
     "metadata": {},
     "output_type": "display_data"
    },
    {
     "name": "stdout",
     "output_type": "stream",
     "text": [
      "(500, 11) (500,)\n"
     ]
    }
   ],
   "source": [
    "predictions = trainer.predict(test_dataset=tokenized_datasets[\"test\"])\n",
    "print(predictions.predictions.shape, predictions.label_ids.shape)\n"
   ]
  },
  {
   "cell_type": "code",
   "execution_count": 68,
   "metadata": {},
   "outputs": [
    {
     "name": "stdout",
     "output_type": "stream",
     "text": [
      "[1 3 7 4 7 5 3 3 5 6 1 5 2 2 8 2 5 1 2 5 2 9 4 2 4 4 0 7 8 7 3 8 2 8 0 4 9\n",
      " 2 5 7 2 8 6 2 8 0 3 8 9 2 4 0 6 0 9 9 9 1 2 0 5 2 8 0 4 0 1 9 1 0 2 3 5 4\n",
      " 7 2 7 0 4 0 9 3 9 5 6 0 9 3 8 6 4 6 4 8 0 3 4 2 2 7 6 0 8 2 5 6 3 4 0 9 3\n",
      " 0 5 5 9 9 2 5 2 3 4 4 6 1 8 2 2 3 5 4 2 3 1 0 3 3 8 5 2 4 8 2 2 1 8 0 2 0\n",
      " 6 7 6 6 5 5 1 3 7 0 4 5 7 6 0 7 1 7 3 2 5 4 3 7 4 6 7 1 6 9 5 4 0 6 7 4 3\n",
      " 0 8 1 8 6 2 0 9 7 9 7 9 9 1 2 8 6 8 6 5 1 7 7 1 4 6 4 5 4 2 2 3 3 2 3 5 3\n",
      " 3 8 5 4 7 3 0 7 1 0 2 2 5 7 3 2 6 9 9 2 0 1 7 5 3 0 3 7 3 2 7 0 3 2 8 0 8\n",
      " 6 9 2 9 7 2 5 5 9 3 7 6 0 6 1 0 1 3 3 4 6 4 3 2 0 1 9 0 4 0 8 1 6 4 7 8 3\n",
      " 6 2 3 1 9 9 6 9 8 5 8 6 0 4 9 6 3 1 2 3 2 4 4 9 2 1 3 7 3 1 2 2 9 6 9 7 1\n",
      " 7 8 4 4 3 5 5 2 8 0 5 0 6 0 7 3 1 9 0 0 5 3 9 3 5 3 3 4 4 6 3 5 2 1 2 5 7\n",
      " 5 1 8 3 0 6 0 2 3 2 9 7 4 8 7 6 6 4 2 8 3 2 0 6 3 0 3 0 7 7 7 5 3 2 3 0 0\n",
      " 1 7 9 7 4 0 9 1 5 4 5 0 9 5 5 6 7 9 9 5 5 0 1 1 6 2 6 6 2 9 1 9 4 7 9 2 0\n",
      " 9 8 9 8 5 5 5 6 0 8 4 0 4 8 3 2 9 5 1 2 6 6 0 5 5 1 8 1 3 8 5 3 1 4 9 3 0\n",
      " 4 3 2 8 6 1 5 2 5 4 2 4 8 9 4 4 5 7 8]\n",
      "[1 3 7 4 8 5 3 3 5 2 3 5 4 2 8 2 6 1 1 5 2 9 4 7 6 4 0 7 8 7 3 8 2 8 0 4 9\n",
      " 2 8 7 2 8 6 2 8 0 3 8 9 2 0 7 6 0 9 9 9 1 4 0 5 2 8 0 4 0 1 9 1 0 2 3 5 4\n",
      " 8 2 7 0 4 0 9 3 9 5 2 0 9 4 8 6 4 6 4 8 0 3 4 2 2 7 6 5 8 2 5 6 3 4 0 9 7\n",
      " 0 5 1 9 9 1 5 2 3 4 4 6 2 8 2 2 3 5 4 2 5 8 0 3 3 8 5 2 4 8 4 6 1 8 0 2 1\n",
      " 6 7 6 6 5 5 1 3 7 0 4 5 7 6 0 7 1 8 3 2 5 4 3 7 4 6 7 1 6 9 5 4 0 6 8 4 3\n",
      " 0 8 1 8 6 2 0 9 7 9 7 9 9 1 2 8 6 6 6 5 1 8 7 1 4 6 4 5 4 1 1 5 3 2 4 5 3\n",
      " 3 8 5 4 7 3 0 8 3 0 2 1 5 7 3 6 6 9 9 2 9 1 7 5 3 0 8 7 3 2 7 0 3 2 8 0 8\n",
      " 6 9 2 9 7 2 5 5 9 3 8 6 0 6 1 0 1 3 3 4 5 4 3 1 0 1 9 0 4 0 8 1 7 4 7 8 3\n",
      " 6 2 3 1 9 5 6 9 8 5 8 6 0 4 9 6 8 1 1 3 1 4 4 9 2 1 3 7 3 1 2 2 9 6 9 1 1\n",
      " 8 8 4 2 3 5 3 2 8 0 5 0 6 0 7 3 1 9 0 0 5 3 9 3 5 3 3 4 4 6 3 5 2 1 6 5 7\n",
      " 5 1 8 3 0 6 0 2 3 1 9 7 1 8 7 6 6 4 2 8 3 2 0 6 3 0 3 0 7 7 7 5 3 2 2 0 0\n",
      " 1 7 9 7 4 0 9 1 5 4 5 0 9 5 5 6 7 9 9 5 5 0 6 1 1 2 6 6 2 9 1 9 4 8 9 2 1\n",
      " 9 8 9 6 5 5 5 2 0 8 4 0 4 8 1 2 9 7 8 2 6 6 0 8 5 1 8 2 3 8 5 3 1 4 9 3 4\n",
      " 4 3 2 8 6 1 5 2 5 4 2 4 8 5 4 5 5 8 8]\n",
      "accuracy= 0.86 f1= 0.8583619487885783\n"
     ]
    }
   ],
   "source": [
    "\n",
    "preds = np.argmax(predictions.predictions, axis=-1)\n",
    "print(preds)\n",
    "print(predictions.label_ids)\n",
    "\n",
    "accuracy = accuracy_score(predictions.label_ids, preds)\n",
    "f1 = f1_score(predictions.label_ids, preds, average='weighted')\n",
    "print(\"accuracy=\" , accuracy, \"f1=\" , f1)\n",
    "\n"
   ]
  },
  {
   "cell_type": "code",
   "execution_count": 69,
   "metadata": {},
   "outputs": [
    {
     "data": {
      "application/vnd.jupyter.widget-view+json": {
       "model_id": "0c710e791bb14ee69bea67f0ba9e57b8",
       "version_major": 2,
       "version_minor": 0
      },
      "text/plain": [
       "  0%|          | 0/32 [00:00<?, ?it/s]"
      ]
     },
     "metadata": {},
     "output_type": "display_data"
    },
    {
     "data": {
      "text/plain": [
       "{'eval_loss': 0.7723776698112488,\n",
       " 'eval_accuracy': 0.86,\n",
       " 'eval_f1': 0.8583619487885783,\n",
       " 'eval_runtime': 82.9164,\n",
       " 'eval_samples_per_second': 6.03,\n",
       " 'eval_steps_per_second': 0.386,\n",
       " 'epoch': 5.0}"
      ]
     },
     "execution_count": 69,
     "metadata": {},
     "output_type": "execute_result"
    }
   ],
   "source": [
    "trainer.evaluate(tokenized_datasets[\"test\"])\n",
    "\n"
   ]
  },
  {
   "cell_type": "code",
   "execution_count": 70,
   "metadata": {},
   "outputs": [
    {
     "data": {
      "text/html": [
       "<div>\n",
       "<style scoped>\n",
       "    .dataframe tbody tr th:only-of-type {\n",
       "        vertical-align: middle;\n",
       "    }\n",
       "\n",
       "    .dataframe tbody tr th {\n",
       "        vertical-align: top;\n",
       "    }\n",
       "\n",
       "    .dataframe thead th {\n",
       "        text-align: right;\n",
       "    }\n",
       "</style>\n",
       "<table border=\"1\" class=\"dataframe\">\n",
       "  <thead>\n",
       "    <tr style=\"text-align: right;\">\n",
       "      <th></th>\n",
       "      <th>text_modernized</th>\n",
       "      <th>text_better_ocr</th>\n",
       "      <th>labels</th>\n",
       "    </tr>\n",
       "  </thead>\n",
       "  <tbody>\n",
       "    <tr>\n",
       "      <th>0</th>\n",
       "      <td>Kuulumiset ulkomailta ovat olleet hyvin vähäis...</td>\n",
       "      <td>Kuulumiset ulkomailta owat olleet hywin wähäi-...</td>\n",
       "      <td>Rikokset</td>\n",
       "    </tr>\n",
       "    <tr>\n",
       "      <th>1</th>\n",
       "      <td>Amerikasta kerrotaan, että New Yorkiin, Amerik...</td>\n",
       "      <td>Amerikasta kerrotaan, että NewYork'iin Amerika...</td>\n",
       "      <td>Liikenne_ja_kuljetus</td>\n",
       "    </tr>\n",
       "    <tr>\n",
       "      <th>2</th>\n",
       "      <td>Kurmijärveltä kirjoitetaan meille joulukuun lo...</td>\n",
       "      <td>Kurmijärweltä kirjoitetaan meille lopulla wii-...</td>\n",
       "      <td>Rikokset</td>\n",
       "    </tr>\n",
       "  </tbody>\n",
       "</table>\n",
       "</div>"
      ],
      "text/plain": [
       "                                     text_modernized  \\\n",
       "0  Kuulumiset ulkomailta ovat olleet hyvin vähäis...   \n",
       "1  Amerikasta kerrotaan, että New Yorkiin, Amerik...   \n",
       "2  Kurmijärveltä kirjoitetaan meille joulukuun lo...   \n",
       "\n",
       "                                     text_better_ocr                labels  \n",
       "0  Kuulumiset ulkomailta owat olleet hywin wähäi-...              Rikokset  \n",
       "1  Amerikasta kerrotaan, että NewYork'iin Amerika...  Liikenne_ja_kuljetus  \n",
       "2  Kurmijärweltä kirjoitetaan meille lopulla wii-...              Rikokset  "
      ]
     },
     "execution_count": 70,
     "metadata": {},
     "output_type": "execute_result"
    }
   ],
   "source": [
    "# Loading dataset\n",
    "test_corpus_data = \"test_corpus_data.csv\" # 63 dokumenttia\n",
    "df_corpus = pd.read_csv(test_corpus_data, sep=\"|\")\n",
    "\n",
    "df_corpus.head(3)\n"
   ]
  },
  {
   "cell_type": "code",
   "execution_count": 71,
   "metadata": {},
   "outputs": [
    {
     "name": "stdout",
     "output_type": "stream",
     "text": [
      "0     3\n",
      "1     1\n",
      "2     3\n",
      "3     7\n",
      "4     7\n",
      "     ..\n",
      "58    7\n",
      "59    7\n",
      "60    7\n",
      "61    6\n",
      "62    8\n",
      "Name: labels, Length: 63, dtype: int64\n"
     ]
    }
   ],
   "source": [
    "df_corpus['labels'] = df_corpus.labels.map(label_mapping)\n",
    "print(df_corpus.labels)\n",
    "\n",
    "df_corpus_modernized = df_corpus.copy()\n",
    "\n",
    "df_corpus.rename({'text_better_ocr': 'text'}, axis=\"columns\", inplace=True) # parempi ocr-teksti on kopioitu kansalliskirjaston sivuilta. alkuperäisen datasetin ocr-data on heikkolaatuista \n",
    "df_corpus_modernized.rename({'text_modernized': 'text'}, axis=\"columns\", inplace=True)\n"
   ]
  },
  {
   "cell_type": "code",
   "execution_count": 72,
   "metadata": {},
   "outputs": [],
   "source": [
    "df_corpus = Dataset.from_pandas(df_corpus, preserve_index=False)\n",
    "df_corpus_modernized = Dataset.from_pandas(df_corpus_modernized, preserve_index=False)\n",
    "\n"
   ]
  },
  {
   "cell_type": "code",
   "execution_count": 73,
   "metadata": {},
   "outputs": [
    {
     "data": {
      "application/vnd.jupyter.widget-view+json": {
       "model_id": "ac5f08a0fd434384a4d12b74c9649902",
       "version_major": 2,
       "version_minor": 0
      },
      "text/plain": [
       "Map:   0%|          | 0/63 [00:00<?, ? examples/s]"
      ]
     },
     "metadata": {},
     "output_type": "display_data"
    },
    {
     "data": {
      "application/vnd.jupyter.widget-view+json": {
       "model_id": "3578dfee40c641f38c4f9defca600b06",
       "version_major": 2,
       "version_minor": 0
      },
      "text/plain": [
       "Map:   0%|          | 0/63 [00:00<?, ? examples/s]"
      ]
     },
     "metadata": {},
     "output_type": "display_data"
    },
    {
     "data": {
      "text/plain": [
       "Dataset({\n",
       "    features: ['text', 'text_better_ocr', 'labels', 'input_ids', 'token_type_ids', 'attention_mask'],\n",
       "    num_rows: 63\n",
       "})"
      ]
     },
     "execution_count": 73,
     "metadata": {},
     "output_type": "execute_result"
    }
   ],
   "source": [
    "tokenized_corpus = df_corpus.map(tokenize_function, batched=True)\n",
    "tokenized_corpus\n",
    "\n",
    "tokenized_corpus_modern = df_corpus_modernized.map(tokenize_function, batched=True)\n",
    "tokenized_corpus_modern\n"
   ]
  },
  {
   "cell_type": "code",
   "execution_count": 74,
   "metadata": {},
   "outputs": [
    {
     "data": {
      "application/vnd.jupyter.widget-view+json": {
       "model_id": "87681866e74241f4982b3e83a71497c3",
       "version_major": 2,
       "version_minor": 0
      },
      "text/plain": [
       "  0%|          | 0/4 [00:00<?, ?it/s]"
      ]
     },
     "metadata": {},
     "output_type": "display_data"
    },
    {
     "name": "stdout",
     "output_type": "stream",
     "text": [
      "[0 8 6 7 7 7 7 7 8 1 7 5 8 5 7 8 5 0 5 8 8 8 1 8 5 5 0 5 7 7 7 5 8 8 0 0 8\n",
      " 7 8 8 5 8 5 8 8 8 8 5 8 5 8 5 5 3 5 8 5 7 7 7 7 5 5]\n",
      "[3 1 3 7 7 7 7 7 8 1 1 5 1 7 7 7 8 7 5 8 8 5 1 8 3 3 0 7 7 7 7 7 8 7 0 7 5\n",
      " 7 8 8 5 8 6 5 8 8 8 7 8 5 1 5 5 1 6 1 8 7 7 7 7 6 8]\n",
      "accuracy= 0.5714285714285714 f1= 0.5554207268492983\n"
     ]
    }
   ],
   "source": [
    "predictions_corpus = trainer.predict(test_dataset=tokenized_corpus)\n",
    "preds_corpus = np.argmax(predictions_corpus.predictions, axis=-1)\n",
    "print(preds_corpus)\n",
    "print(predictions_corpus.label_ids)\n",
    "\n",
    "accuracy = accuracy_score(predictions_corpus.label_ids, preds_corpus)\n",
    "f1 = f1_score(predictions_corpus.label_ids, preds_corpus, average='weighted')\n",
    "print(\"accuracy=\" , accuracy, \"f1=\" , f1)"
   ]
  },
  {
   "cell_type": "code",
   "execution_count": 75,
   "metadata": {},
   "outputs": [
    {
     "data": {
      "application/vnd.jupyter.widget-view+json": {
       "model_id": "bd7da500ca15422dacd3e81ea8ddf8cf",
       "version_major": 2,
       "version_minor": 0
      },
      "text/plain": [
       "  0%|          | 0/4 [00:00<?, ?it/s]"
      ]
     },
     "metadata": {},
     "output_type": "display_data"
    },
    {
     "name": "stdout",
     "output_type": "stream",
     "text": [
      "[0 8 6 8 7 7 7 7 8 1 5 5 8 8 7 8 8 0 5 8 8 8 1 3 3 3 0 5 7 7 7 5 8 8 0 0 8\n",
      " 7 8 8 5 1 6 8 8 8 8 3 8 5 8 5 5 1 6 1 1 7 7 7 7 7 5]\n",
      "[3 1 3 7 7 7 7 7 8 1 1 5 1 7 7 7 8 7 5 8 8 5 1 8 3 3 0 7 7 7 7 7 8 7 0 7 5\n",
      " 7 8 8 5 8 6 5 8 8 8 7 8 5 1 5 5 1 6 1 8 7 7 7 7 6 8]\n",
      "accuracy= 0.6349206349206349 f1= 0.6421278062882073\n"
     ]
    }
   ],
   "source": [
    "predictions_corpus = trainer.predict(test_dataset=tokenized_corpus_modern)\n",
    "preds_corpus = np.argmax(predictions_corpus.predictions, axis=-1)\n",
    "print(preds_corpus)\n",
    "print(predictions_corpus.label_ids)\n",
    "\n",
    "accuracy = accuracy_score(predictions_corpus.label_ids, preds_corpus)\n",
    "f1 = f1_score(predictions_corpus.label_ids, preds_corpus, average='weighted')\n",
    "print(\"accuracy=\" , accuracy, \"f1=\" , f1)"
   ]
  },
  {
   "cell_type": "code",
   "execution_count": 76,
   "metadata": {},
   "outputs": [
    {
     "data": {
      "text/plain": [
       "('./t_model\\\\tokenizer_config.json',\n",
       " './t_model\\\\special_tokens_map.json',\n",
       " './t_model\\\\vocab.txt',\n",
       " './t_model\\\\added_tokens.json',\n",
       " './t_model\\\\tokenizer.json')"
      ]
     },
     "execution_count": 76,
     "metadata": {},
     "output_type": "execute_result"
    }
   ],
   "source": [
    "model_save_path = \"./t_model\"\n",
    "trainer.save_model(model_save_path)\n",
    "tokenizer.save_pretrained(model_save_path)\n"
   ]
  }
 ],
 "metadata": {
  "kernelspec": {
   "display_name": "base",
   "language": "python",
   "name": "python3"
  },
  "language_info": {
   "codemirror_mode": {
    "name": "ipython",
    "version": 3
   },
   "file_extension": ".py",
   "mimetype": "text/x-python",
   "name": "python",
   "nbconvert_exporter": "python",
   "pygments_lexer": "ipython3",
   "version": "3.9.18"
  }
 },
 "nbformat": 4,
 "nbformat_minor": 2
}
