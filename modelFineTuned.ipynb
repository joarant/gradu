{
 "cells": [
  {
   "cell_type": "code",
   "execution_count": 1,
   "metadata": {},
   "outputs": [
    {
     "name": "stderr",
     "output_type": "stream",
     "text": [
      "c:\\Users\\joakim\\anaconda3\\lib\\site-packages\\transformers\\utils\\generic.py:260: FutureWarning: `torch.utils._pytree._register_pytree_node` is deprecated. Please use `torch.utils._pytree.register_pytree_node` instead.\n",
      "  torch.utils._pytree._register_pytree_node(\n",
      "c:\\Users\\joakim\\anaconda3\\lib\\site-packages\\transformers\\utils\\generic.py:260: FutureWarning: `torch.utils._pytree._register_pytree_node` is deprecated. Please use `torch.utils._pytree.register_pytree_node` instead.\n",
      "  torch.utils._pytree._register_pytree_node(\n"
     ]
    }
   ],
   "source": [
    "from transformers import BertConfig, BertModel, AutoTokenizer, TrainingArguments, AutoModelForSequenceClassification, Trainer, DataCollatorWithPadding\n",
    "from sklearn.model_selection import train_test_split\n",
    "from sklearn import preprocessing\n",
    "import torch\n",
    "import pandas as pd\n",
    "from datasets import load_dataset, Dataset, DatasetDict, ClassLabel\n",
    "import numpy as np\n",
    "from sklearn.metrics import accuracy_score, f1_score\n"
   ]
  },
  {
   "cell_type": "code",
   "execution_count": 2,
   "metadata": {},
   "outputs": [
    {
     "data": {
      "text/plain": [
       "True"
      ]
     },
     "execution_count": 2,
     "metadata": {},
     "output_type": "execute_result"
    }
   ],
   "source": [
    "torch.cuda.is_available()"
   ]
  },
  {
   "cell_type": "code",
   "execution_count": 3,
   "metadata": {},
   "outputs": [],
   "source": [
    "tokenizer = AutoTokenizer.from_pretrained(\"TurkuNLP/bert-base-finnish-cased-v1\")"
   ]
  },
  {
   "cell_type": "code",
   "execution_count": 4,
   "metadata": {},
   "outputs": [
    {
     "name": "stderr",
     "output_type": "stream",
     "text": [
      "C:\\Users\\joakim\\AppData\\Local\\Temp\\ipykernel_19948\\3043923669.py:3: ParserWarning: Falling back to the 'python' engine because the separator encoded in utf-8 is > 1 char long, and the 'c' engine does not support such separators; you can avoid this warning by specifying engine='python'.\n",
      "  df = pd.read_csv(dataSetPath, sep=\"␞\", nrows=200000)\n"
     ]
    },
    {
     "name": "stdout",
     "output_type": "stream",
     "text": [
      "612 invalid data\n",
      "199388 valid data\n",
      "Index(['id', 'url', 'headline', 'text', 'subjects', 'datePublished'], dtype='object')\n",
      "10 categories\n",
      "['urheilu', 'kulttuuri', 'talous', 'luonto', 'Onnettomuudet', 'politiikka', 'Rikokset', 'Liikenne_ja_kuljetus', 'Koulutus_ja_kasvatus', 'Terveys']\n"
     ]
    }
   ],
   "source": [
    "# Loading dataset\n",
    "dataSetPath = \"yle_data/2011-2018-SubjectsInPaper-1.csv\"\n",
    "df = pd.read_csv(dataSetPath, sep=\"␞\", nrows=200000)\n",
    "\n",
    "\n",
    "print(df['text'].isna().sum(), \"invalid data\")\n",
    "df = df.dropna(subset=['text'])\n",
    "print(len(df), \"valid data\")\n",
    "\n",
    "print(df.columns)\n",
    "df = df.drop(['id', 'url', 'headline', 'datePublished'], axis=1) \n",
    "\n",
    "\n",
    "def multiLabelToSingular(labelArray):\n",
    "    cleaned_text = labelArray.replace(\"'\", \"\").replace(\" \", \"\").replace(\"[\", \"\").replace(\"]\", \"\")\n",
    "    return cleaned_text.split(\",\")[0]\n",
    "\n",
    "\n",
    "# print(df.dtypes)\n",
    "df['subjects'] = df['subjects'].apply(multiLabelToSingular)\n",
    "\n",
    "print(df['subjects'].nunique(), \"categories\")\n",
    "print(df['subjects'].unique().tolist())\n",
    "\n",
    "df.rename({'subjects': 'labels'}, axis=\"columns\", inplace=True)\n",
    "\n"
   ]
  },
  {
   "cell_type": "code",
   "execution_count": 5,
   "metadata": {},
   "outputs": [
    {
     "name": "stdout",
     "output_type": "stream",
     "text": [
      "Koulutus_ja_kasvatus    10753\n",
      "Liikenne_ja_kuljetus    13554\n",
      "Onnettomuudet           10717\n",
      "Rikokset                 8166\n",
      "Terveys                  8600\n",
      "kulttuuri               13794\n",
      "luonto                  10994\n",
      "politiikka              12961\n",
      "talous                  24427\n",
      "urheilu                 85422\n",
      "Name: labels, dtype: int64\n"
     ]
    }
   ],
   "source": [
    "# paperin luokat:\n",
    "\n",
    "# urheilu \"18-220090\",\n",
    "# talous \"18-204933\",\n",
    "# politiikka \"18-220306\",\n",
    "# kulttuuri \"18-208149\",\n",
    "# luonto \"18-215452\",\n",
    "# 18-218480 - Onnettomuudet\n",
    "# 18-209306 - Terveys\n",
    "# 18-217206 - Rikokset\n",
    "# 18-91232 - Liikenne ja kuljetus\n",
    "# 18-35286 - Koulutus ja kasvatus\n",
    "\n",
    "print(df['labels'].value_counts().sort_index(ascending=True))\n",
    "\n",
    "le = preprocessing.LabelEncoder()\n",
    "le.fit(df.labels)\n",
    "df['labels'] = le.transform(df.labels)"
   ]
  },
  {
   "cell_type": "code",
   "execution_count": 6,
   "metadata": {},
   "outputs": [
    {
     "name": "stdout",
     "output_type": "stream",
     "text": [
      "750 documents\n",
      "0    75\n",
      "1    75\n",
      "2    75\n",
      "3    75\n",
      "4    75\n",
      "5    75\n",
      "6    75\n",
      "7    75\n",
      "8    75\n",
      "9    75\n",
      "Name: labels, dtype: int64\n"
     ]
    }
   ],
   "source": [
    "n_sample = 75\n",
    "df_balanced = df.groupby('labels').head(n_sample)\n",
    "df_balanced = df.groupby('labels').apply(lambda x: x.sample(n=n_sample))\n",
    "\n",
    "print(len(df_balanced), \"documents\")\n",
    "print(df_balanced['labels'].value_counts().sort_index(ascending=True))\n"
   ]
  },
  {
   "cell_type": "code",
   "execution_count": 7,
   "metadata": {},
   "outputs": [
    {
     "data": {
      "text/plain": [
       "Dataset({\n",
       "    features: ['text', 'labels'],\n",
       "    num_rows: 750\n",
       "})"
      ]
     },
     "execution_count": 7,
     "metadata": {},
     "output_type": "execute_result"
    }
   ],
   "source": [
    "dataset = Dataset.from_pandas(df_balanced, preserve_index=False)\n",
    "dataset"
   ]
  },
  {
   "cell_type": "code",
   "execution_count": 8,
   "metadata": {},
   "outputs": [
    {
     "name": "stdout",
     "output_type": "stream",
     "text": [
      "DatasetDict({\n",
      "    train: Dataset({\n",
      "        features: ['text', 'labels'],\n",
      "        num_rows: 540\n",
      "    })\n",
      "    validation: Dataset({\n",
      "        features: ['text', 'labels'],\n",
      "        num_rows: 60\n",
      "    })\n",
      "    test: Dataset({\n",
      "        features: ['text', 'labels'],\n",
      "        num_rows: 150\n",
      "    })\n",
      "})\n"
     ]
    }
   ],
   "source": [
    "\n",
    "train_test_split = dataset.train_test_split(test_size=0.2)\n",
    "\n",
    "train_valid_split = train_test_split['train'].train_test_split(test_size=0.1)\n",
    "\n",
    "datasets = DatasetDict({\n",
    "    'train': train_valid_split['train'],\n",
    "    'validation': train_valid_split['test'],\n",
    "    'test': train_test_split['test']\n",
    "})\n",
    "print(datasets)"
   ]
  },
  {
   "cell_type": "code",
   "execution_count": 9,
   "metadata": {},
   "outputs": [
    {
     "name": "stdout",
     "output_type": "stream",
     "text": [
      "{0, 1, 2, 3, 4, 5, 6, 7, 8, 9}\n"
     ]
    }
   ],
   "source": [
    "unique_values = set(datasets[\"train\"][\"labels\"])\n",
    "print(unique_values)\n"
   ]
  },
  {
   "cell_type": "code",
   "execution_count": 10,
   "metadata": {},
   "outputs": [],
   "source": [
    "def tokenize_function(example):\n",
    "    tokenized = tokenizer(example[\"text\"], truncation=True)\n",
    "    return tokenized"
   ]
  },
  {
   "cell_type": "code",
   "execution_count": 11,
   "metadata": {},
   "outputs": [
    {
     "data": {
      "application/vnd.jupyter.widget-view+json": {
       "model_id": "3bf9de7b11954e039af4c9f3043463bf",
       "version_major": 2,
       "version_minor": 0
      },
      "text/plain": [
       "Map:   0%|          | 0/540 [00:00<?, ? examples/s]"
      ]
     },
     "metadata": {},
     "output_type": "display_data"
    },
    {
     "data": {
      "application/vnd.jupyter.widget-view+json": {
       "model_id": "fd80321c55f249d4bc8da2b72c7e6c91",
       "version_major": 2,
       "version_minor": 0
      },
      "text/plain": [
       "Map:   0%|          | 0/60 [00:00<?, ? examples/s]"
      ]
     },
     "metadata": {},
     "output_type": "display_data"
    },
    {
     "data": {
      "application/vnd.jupyter.widget-view+json": {
       "model_id": "266367e300164f959219ba8ac448e058",
       "version_major": 2,
       "version_minor": 0
      },
      "text/plain": [
       "Map:   0%|          | 0/150 [00:00<?, ? examples/s]"
      ]
     },
     "metadata": {},
     "output_type": "display_data"
    },
    {
     "data": {
      "text/plain": [
       "DatasetDict({\n",
       "    train: Dataset({\n",
       "        features: ['text', 'labels', 'input_ids', 'token_type_ids', 'attention_mask'],\n",
       "        num_rows: 540\n",
       "    })\n",
       "    validation: Dataset({\n",
       "        features: ['text', 'labels', 'input_ids', 'token_type_ids', 'attention_mask'],\n",
       "        num_rows: 60\n",
       "    })\n",
       "    test: Dataset({\n",
       "        features: ['text', 'labels', 'input_ids', 'token_type_ids', 'attention_mask'],\n",
       "        num_rows: 150\n",
       "    })\n",
       "})"
      ]
     },
     "execution_count": 11,
     "metadata": {},
     "output_type": "execute_result"
    }
   ],
   "source": [
    "\n",
    "tokenized_datasets = datasets.map(tokenize_function, batched=True)\n",
    "data_collator = DataCollatorWithPadding(tokenizer=tokenizer)\n",
    "\n",
    "tokenized_datasets\n",
    "\n"
   ]
  },
  {
   "cell_type": "code",
   "execution_count": 14,
   "metadata": {},
   "outputs": [],
   "source": [
    "def compute_metrics(eval_pred):\n",
    "    logits, labels = eval_pred\n",
    "    predictions = logits.argmax(axis=-1)\n",
    "    accuracy = accuracy_score(labels, predictions)\n",
    "    f1 = f1_score(labels, predictions, average='weighted')\n",
    "    return {\"accuracy\": accuracy, \"f1\": f1}\n",
    "\n",
    "training_args = TrainingArguments(\n",
    "    output_dir=\"./logs\",                    \n",
    "    evaluation_strategy=\"steps\",        \n",
    "    eval_steps=50,                      \n",
    "    logging_dir=\"./logs\",                \n",
    "    logging_steps=50,                   \n",
    "    save_steps=500,                      \n",
    "    per_device_train_batch_size=8,       \n",
    "    per_device_eval_batch_size=16,       \n",
    "    num_train_epochs=5,                  \n",
    "    save_total_limit=2,                  \n",
    "    load_best_model_at_end=True,         \n",
    "    metric_for_best_model=\"f1\",          \n",
    "    greater_is_better=True,              \n",
    "    report_to=\"tensorboard\",            \n",
    ")\n",
    "\n",
    "\n",
    "\n"
   ]
  },
  {
   "cell_type": "code",
   "execution_count": 15,
   "metadata": {},
   "outputs": [
    {
     "name": "stderr",
     "output_type": "stream",
     "text": [
      "Some weights of BertForSequenceClassification were not initialized from the model checkpoint at TurkuNLP/bert-base-finnish-cased-v1 and are newly initialized: ['classifier.bias', 'classifier.weight']\n",
      "You should probably TRAIN this model on a down-stream task to be able to use it for predictions and inference.\n",
      "c:\\Users\\joakim\\anaconda3\\lib\\site-packages\\accelerate\\accelerator.py:432: FutureWarning: Passing the following arguments to `Accelerator` is deprecated and will be removed in version 1.0 of Accelerate: dict_keys(['dispatch_batches']). Please pass an `accelerate.DataLoaderConfiguration` instead: \n",
      "dataloader_config = DataLoaderConfiguration(dispatch_batches=None)\n",
      "  warnings.warn(\n"
     ]
    }
   ],
   "source": [
    "model = AutoModelForSequenceClassification.from_pretrained(\"TurkuNLP/bert-base-finnish-cased-v1\", num_labels=11, device_map = 'cuda')\n",
    "\n",
    "\n",
    "trainer = Trainer(\n",
    "    model=model,\n",
    "    args=training_args,\n",
    "    train_dataset=tokenized_datasets[\"train\"],\n",
    "    eval_dataset=tokenized_datasets[\"validation\"],\n",
    "    tokenizer=tokenizer,\n",
    "    data_collator=data_collator,\n",
    "    compute_metrics=compute_metrics,\n",
    ")"
   ]
  },
  {
   "cell_type": "code",
   "execution_count": 16,
   "metadata": {},
   "outputs": [
    {
     "data": {
      "application/vnd.jupyter.widget-view+json": {
       "model_id": "acca09c8ca55450386b46e9cdb445dae",
       "version_major": 2,
       "version_minor": 0
      },
      "text/plain": [
       "  0%|          | 0/340 [00:00<?, ?it/s]"
      ]
     },
     "metadata": {},
     "output_type": "display_data"
    },
    {
     "name": "stderr",
     "output_type": "stream",
     "text": [
      "You're using a BertTokenizerFast tokenizer. Please note that with a fast tokenizer, using the `__call__` method is faster than using a method to encode the text followed by a call to the `pad` method to get a padded encoding.\n"
     ]
    },
    {
     "name": "stdout",
     "output_type": "stream",
     "text": [
      "{'loss': 1.5732, 'learning_rate': 4.2647058823529415e-05, 'epoch': 0.74}\n"
     ]
    },
    {
     "data": {
      "application/vnd.jupyter.widget-view+json": {
       "model_id": "fc2da70952984029b9eb58fc4b6910a6",
       "version_major": 2,
       "version_minor": 0
      },
      "text/plain": [
       "  0%|          | 0/4 [00:00<?, ?it/s]"
      ]
     },
     "metadata": {},
     "output_type": "display_data"
    },
    {
     "name": "stdout",
     "output_type": "stream",
     "text": [
      "{'eval_loss': 0.7891043424606323, 'eval_accuracy': 0.7833333333333333, 'eval_f1': 0.7833958633958635, 'eval_runtime': 7.9984, 'eval_samples_per_second': 7.502, 'eval_steps_per_second': 0.5, 'epoch': 0.74}\n",
      "{'loss': 0.6059, 'learning_rate': 3.529411764705883e-05, 'epoch': 1.47}\n"
     ]
    },
    {
     "data": {
      "application/vnd.jupyter.widget-view+json": {
       "model_id": "b1cddcf9278f403caec4c5fef34433d8",
       "version_major": 2,
       "version_minor": 0
      },
      "text/plain": [
       "  0%|          | 0/4 [00:00<?, ?it/s]"
      ]
     },
     "metadata": {},
     "output_type": "display_data"
    },
    {
     "name": "stdout",
     "output_type": "stream",
     "text": [
      "{'eval_loss': 0.6086699962615967, 'eval_accuracy': 0.85, 'eval_f1': 0.846098914845045, 'eval_runtime': 7.7981, 'eval_samples_per_second': 7.694, 'eval_steps_per_second': 0.513, 'epoch': 1.47}\n",
      "{'loss': 0.3099, 'learning_rate': 2.7941176470588236e-05, 'epoch': 2.21}\n"
     ]
    },
    {
     "data": {
      "application/vnd.jupyter.widget-view+json": {
       "model_id": "505006a6dc5b4c97b92c5024f22f003b",
       "version_major": 2,
       "version_minor": 0
      },
      "text/plain": [
       "  0%|          | 0/4 [00:00<?, ?it/s]"
      ]
     },
     "metadata": {},
     "output_type": "display_data"
    },
    {
     "name": "stdout",
     "output_type": "stream",
     "text": [
      "{'eval_loss': 0.7717382311820984, 'eval_accuracy': 0.7666666666666667, 'eval_f1': 0.7631734006734007, 'eval_runtime': 7.9522, 'eval_samples_per_second': 7.545, 'eval_steps_per_second': 0.503, 'epoch': 2.21}\n",
      "{'loss': 0.1712, 'learning_rate': 2.058823529411765e-05, 'epoch': 2.94}\n"
     ]
    },
    {
     "data": {
      "application/vnd.jupyter.widget-view+json": {
       "model_id": "2b7b4ad4447b44ab8cad07aabfbb3dda",
       "version_major": 2,
       "version_minor": 0
      },
      "text/plain": [
       "  0%|          | 0/4 [00:00<?, ?it/s]"
      ]
     },
     "metadata": {},
     "output_type": "display_data"
    },
    {
     "name": "stdout",
     "output_type": "stream",
     "text": [
      "{'eval_loss': 1.0066031217575073, 'eval_accuracy': 0.7833333333333333, 'eval_f1': 0.7792087542087541, 'eval_runtime': 7.7168, 'eval_samples_per_second': 7.775, 'eval_steps_per_second': 0.518, 'epoch': 2.94}\n",
      "{'loss': 0.0708, 'learning_rate': 1.323529411764706e-05, 'epoch': 3.68}\n"
     ]
    },
    {
     "data": {
      "application/vnd.jupyter.widget-view+json": {
       "model_id": "33c58ed0d6cc4371bb7b85664193e178",
       "version_major": 2,
       "version_minor": 0
      },
      "text/plain": [
       "  0%|          | 0/4 [00:00<?, ?it/s]"
      ]
     },
     "metadata": {},
     "output_type": "display_data"
    },
    {
     "name": "stdout",
     "output_type": "stream",
     "text": [
      "{'eval_loss': 0.6378504037857056, 'eval_accuracy': 0.85, 'eval_f1': 0.8481899192425508, 'eval_runtime': 8.2213, 'eval_samples_per_second': 7.298, 'eval_steps_per_second': 0.487, 'epoch': 3.68}\n",
      "{'loss': 0.0491, 'learning_rate': 5.882352941176471e-06, 'epoch': 4.41}\n"
     ]
    },
    {
     "data": {
      "application/vnd.jupyter.widget-view+json": {
       "model_id": "9da52c81601f4bf7a1ff89fb89600190",
       "version_major": 2,
       "version_minor": 0
      },
      "text/plain": [
       "  0%|          | 0/4 [00:00<?, ?it/s]"
      ]
     },
     "metadata": {},
     "output_type": "display_data"
    },
    {
     "name": "stdout",
     "output_type": "stream",
     "text": [
      "{'eval_loss': 0.8179947137832642, 'eval_accuracy': 0.85, 'eval_f1': 0.847037037037037, 'eval_runtime': 7.8976, 'eval_samples_per_second': 7.597, 'eval_steps_per_second': 0.506, 'epoch': 4.41}\n",
      "{'train_runtime': 861.8477, 'train_samples_per_second': 3.133, 'train_steps_per_second': 0.395, 'train_loss': 0.4137456865871654, 'epoch': 5.0}\n"
     ]
    },
    {
     "data": {
      "text/plain": [
       "TrainOutput(global_step=340, training_loss=0.4137456865871654, metrics={'train_runtime': 861.8477, 'train_samples_per_second': 3.133, 'train_steps_per_second': 0.395, 'train_loss': 0.4137456865871654, 'epoch': 5.0})"
      ]
     },
     "execution_count": 16,
     "metadata": {},
     "output_type": "execute_result"
    }
   ],
   "source": [
    "trainer.train()"
   ]
  },
  {
   "cell_type": "code",
   "execution_count": 17,
   "metadata": {},
   "outputs": [
    {
     "data": {
      "application/vnd.jupyter.widget-view+json": {
       "model_id": "42fcd42ad23b4ed8bad77a8c101bfa53",
       "version_major": 2,
       "version_minor": 0
      },
      "text/plain": [
       "  0%|          | 0/10 [00:00<?, ?it/s]"
      ]
     },
     "metadata": {},
     "output_type": "display_data"
    },
    {
     "name": "stdout",
     "output_type": "stream",
     "text": [
      "(150, 11) (150,)\n"
     ]
    }
   ],
   "source": [
    "predictions = trainer.predict(test_dataset=tokenized_datasets[\"test\"])\n",
    "print(predictions.predictions.shape, predictions.label_ids.shape)\n"
   ]
  },
  {
   "cell_type": "code",
   "execution_count": 18,
   "metadata": {},
   "outputs": [
    {
     "name": "stdout",
     "output_type": "stream",
     "text": [
      "[4 7 1 1 9 2 4 4 7 1 0 5 2 8 4 3 1 2 9 7 8 7 1 5 0 0 2 4 5 9 1 7 0 6 2 9 8\n",
      " 6 2 6 0 1 2 6 8 7 3 3 4 6 3 3 2 9 9 8 5 7 7 8 4 8 4 7 7 0 4 8 2 7 4 3 2 2\n",
      " 7 8 1 5 6 2 9 4 7 2 9 7 8 0 7 9 5 4 6 6 7 0 5 2 9 7 0 8 9 7 9 2 2 2 4 7 3\n",
      " 6 4 3 3 0 3 5 9 2 4 5 1 6 7 9 7 0 2 9 9 6 2 1 1 0 9 0 6 3 4 4 4 9 0 7 0 2\n",
      " 6 2]\n",
      "[4 7 1 1 9 2 4 4 7 1 0 5 2 8 4 3 1 2 9 7 8 7 4 5 0 5 2 4 5 9 1 7 0 6 2 9 5\n",
      " 6 2 6 0 1 2 6 8 7 3 3 4 6 3 3 2 9 9 3 5 8 7 8 4 8 4 7 8 0 4 8 6 7 4 3 2 2\n",
      " 7 8 1 5 6 1 9 4 7 2 9 7 8 0 7 9 5 4 6 6 0 0 5 2 9 7 0 8 9 7 0 2 3 2 4 8 6\n",
      " 6 4 3 3 0 8 5 9 5 4 5 1 6 3 9 7 0 2 9 9 6 2 1 1 0 9 0 6 3 4 4 7 9 0 7 0 2\n",
      " 6 2]\n"
     ]
    }
   ],
   "source": [
    "\n",
    "preds = np.argmax(predictions.predictions, axis=-1)\n",
    "print(preds)\n",
    "print(predictions.label_ids)\n"
   ]
  },
  {
   "cell_type": "code",
   "execution_count": 19,
   "metadata": {},
   "outputs": [
    {
     "data": {
      "application/vnd.jupyter.widget-view+json": {
       "model_id": "a17c8391ddee49d7a40eb27c16713b3e",
       "version_major": 2,
       "version_minor": 0
      },
      "text/plain": [
       "  0%|          | 0/10 [00:00<?, ?it/s]"
      ]
     },
     "metadata": {},
     "output_type": "display_data"
    },
    {
     "data": {
      "text/plain": [
       "{'eval_loss': 0.5493655204772949,\n",
       " 'eval_accuracy': 0.8866666666666667,\n",
       " 'eval_f1': 0.8854765911974888,\n",
       " 'eval_runtime': 21.5159,\n",
       " 'eval_samples_per_second': 6.972,\n",
       " 'eval_steps_per_second': 0.465,\n",
       " 'epoch': 5.0}"
      ]
     },
     "execution_count": 19,
     "metadata": {},
     "output_type": "execute_result"
    }
   ],
   "source": [
    "trainer.evaluate(tokenized_datasets[\"test\"])\n",
    "\n"
   ]
  },
  {
   "cell_type": "code",
   "execution_count": 111,
   "metadata": {},
   "outputs": [
    {
     "data": {
      "text/html": [
       "<div>\n",
       "<style scoped>\n",
       "    .dataframe tbody tr th:only-of-type {\n",
       "        vertical-align: middle;\n",
       "    }\n",
       "\n",
       "    .dataframe tbody tr th {\n",
       "        vertical-align: top;\n",
       "    }\n",
       "\n",
       "    .dataframe thead th {\n",
       "        text-align: right;\n",
       "    }\n",
       "</style>\n",
       "<table border=\"1\" class=\"dataframe\">\n",
       "  <thead>\n",
       "    <tr style=\"text-align: right;\">\n",
       "      <th></th>\n",
       "      <th>text_modernized</th>\n",
       "      <th>text_better_ocr</th>\n",
       "      <th>labels</th>\n",
       "    </tr>\n",
       "  </thead>\n",
       "  <tbody>\n",
       "    <tr>\n",
       "      <th>0</th>\n",
       "      <td>Kuulumiset ulkomailta ovat olleet hyvin vähäis...</td>\n",
       "      <td>Kuulumiset ulkomailta owat olleet hywin wähäi-...</td>\n",
       "      <td>Rikokset</td>\n",
       "    </tr>\n",
       "    <tr>\n",
       "      <th>1</th>\n",
       "      <td>Amerikasta kerrotaan, että New Yorkiin, Amerik...</td>\n",
       "      <td>Amerikasta kerrotaan, että NewYork'iin Amerika...</td>\n",
       "      <td>Liikenne ja kuljetus</td>\n",
       "    </tr>\n",
       "    <tr>\n",
       "      <th>2</th>\n",
       "      <td>Kurmijärveltä kirjoitetaan meille joulukuun lo...</td>\n",
       "      <td>Kurmijärweltä kirjoitetaan meille lopulla wii-...</td>\n",
       "      <td>Rikokset</td>\n",
       "    </tr>\n",
       "  </tbody>\n",
       "</table>\n",
       "</div>"
      ],
      "text/plain": [
       "                                     text_modernized  \\\n",
       "0  Kuulumiset ulkomailta ovat olleet hyvin vähäis...   \n",
       "1  Amerikasta kerrotaan, että New Yorkiin, Amerik...   \n",
       "2  Kurmijärveltä kirjoitetaan meille joulukuun lo...   \n",
       "\n",
       "                                     text_better_ocr                labels  \n",
       "0  Kuulumiset ulkomailta owat olleet hywin wähäi-...              Rikokset  \n",
       "1  Amerikasta kerrotaan, että NewYork'iin Amerika...  Liikenne ja kuljetus  \n",
       "2  Kurmijärweltä kirjoitetaan meille lopulla wii-...              Rikokset  "
      ]
     },
     "execution_count": 111,
     "metadata": {},
     "output_type": "execute_result"
    }
   ],
   "source": [
    "# Loading dataset\n",
    "test_corpus_data = \"test_corpus_data.csv\"\n",
    "df_corpus = pd.read_csv(test_corpus_data, sep=\"|\")\n",
    "# df_corpus = df_corpus.drop(['text_better_ocr'], axis=1) \n",
    "\n",
    "df_corpus.head(3)\n"
   ]
  },
  {
   "cell_type": "code",
   "execution_count": 112,
   "metadata": {},
   "outputs": [],
   "source": [
    "df_corpus.rename({'text_better_ocr': 'text'}, axis=\"columns\", inplace=True)\n"
   ]
  },
  {
   "cell_type": "code",
   "execution_count": 113,
   "metadata": {},
   "outputs": [
    {
     "name": "stdout",
     "output_type": "stream",
     "text": [
      "0    1\n",
      "1    0\n",
      "2    1\n",
      "3    2\n",
      "4    2\n",
      "5    2\n",
      "6    2\n",
      "Name: labels, dtype: int32\n"
     ]
    }
   ],
   "source": [
    "le.fit(df_corpus.labels)\n",
    "df_corpus['labels'] = le.transform(df_corpus.labels)\n",
    "print(df_corpus.labels)\n"
   ]
  },
  {
   "cell_type": "code",
   "execution_count": 114,
   "metadata": {},
   "outputs": [],
   "source": [
    "df_corpus = Dataset.from_pandas(df_corpus, preserve_index=False)"
   ]
  },
  {
   "cell_type": "code",
   "execution_count": 115,
   "metadata": {},
   "outputs": [
    {
     "data": {
      "application/vnd.jupyter.widget-view+json": {
       "model_id": "c0d669a076294ae88fcc7159ac8da749",
       "version_major": 2,
       "version_minor": 0
      },
      "text/plain": [
       "Map:   0%|          | 0/7 [00:00<?, ? examples/s]"
      ]
     },
     "metadata": {},
     "output_type": "display_data"
    },
    {
     "data": {
      "text/plain": [
       "Dataset({\n",
       "    features: ['text_modernized', 'text', 'labels', 'input_ids', 'token_type_ids', 'attention_mask'],\n",
       "    num_rows: 7\n",
       "})"
      ]
     },
     "execution_count": 115,
     "metadata": {},
     "output_type": "execute_result"
    }
   ],
   "source": [
    "tokenized_corpus = df_corpus.map(tokenize_function, batched=True)\n",
    "tokenized_corpus\n",
    "\n"
   ]
  },
  {
   "cell_type": "code",
   "execution_count": 116,
   "metadata": {},
   "outputs": [
    {
     "data": {
      "application/vnd.jupyter.widget-view+json": {
       "model_id": "4751791723614db69a4f2aeccef391c1",
       "version_major": 2,
       "version_minor": 0
      },
      "text/plain": [
       "  0%|          | 0/1 [00:00<?, ?it/s]"
      ]
     },
     "metadata": {},
     "output_type": "display_data"
    },
    {
     "name": "stdout",
     "output_type": "stream",
     "text": [
      "[0 6 6 7 7 7 7]\n",
      "[1 0 1 2 2 2 2]\n"
     ]
    }
   ],
   "source": [
    "predictions_corpus = trainer.predict(test_dataset=tokenized_corpus)\n",
    "preds_corpus = np.argmax(predictions_corpus.predictions, axis=-1)\n",
    "print(preds_corpus)\n",
    "print(predictions_corpus.label_ids)\n",
    "\n",
    "# labelit ovat väärin enkoodattuna korpuksen testidatan kanssa. 2 ja 7 vastaavat toisiaan "
   ]
  },
  {
   "cell_type": "code",
   "execution_count": 49,
   "metadata": {},
   "outputs": [
    {
     "data": {
      "text/plain": [
       "('./t_model\\\\tokenizer_config.json',\n",
       " './t_model\\\\special_tokens_map.json',\n",
       " './t_model\\\\vocab.txt',\n",
       " './t_model\\\\added_tokens.json',\n",
       " './t_model\\\\tokenizer.json')"
      ]
     },
     "execution_count": 49,
     "metadata": {},
     "output_type": "execute_result"
    }
   ],
   "source": [
    "model_save_path = \"./t_model\"\n",
    "trainer.save_model(model_save_path)\n",
    "tokenizer.save_pretrained(model_save_path)\n"
   ]
  }
 ],
 "metadata": {
  "kernelspec": {
   "display_name": "base",
   "language": "python",
   "name": "python3"
  },
  "language_info": {
   "codemirror_mode": {
    "name": "ipython",
    "version": 3
   },
   "file_extension": ".py",
   "mimetype": "text/x-python",
   "name": "python",
   "nbconvert_exporter": "python",
   "pygments_lexer": "ipython3",
   "version": "3.9.18"
  }
 },
 "nbformat": 4,
 "nbformat_minor": 2
}
