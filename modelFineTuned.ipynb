{
 "cells": [
  {
   "cell_type": "code",
   "execution_count": 23,
   "metadata": {},
   "outputs": [],
   "source": [
    "from transformers import BertConfig, BertModel, AutoTokenizer, TrainingArguments, AutoModelForSequenceClassification, Trainer, DataCollatorWithPadding\n",
    "from sklearn.model_selection import train_test_split\n",
    "from sklearn import preprocessing\n",
    "import torch\n",
    "import pandas as pd\n",
    "from datasets import load_dataset, Dataset, DatasetDict, ClassLabel\n",
    "import numpy as np\n",
    "from sklearn.metrics import accuracy_score, f1_score"
   ]
  },
  {
   "cell_type": "code",
   "execution_count": 24,
   "metadata": {},
   "outputs": [
    {
     "data": {
      "text/plain": [
       "True"
      ]
     },
     "execution_count": 24,
     "metadata": {},
     "output_type": "execute_result"
    }
   ],
   "source": [
    "torch.cuda.is_available()"
   ]
  },
  {
   "cell_type": "code",
   "execution_count": 25,
   "metadata": {},
   "outputs": [],
   "source": [
    "tokenizer = AutoTokenizer.from_pretrained(\"TurkuNLP/bert-base-finnish-cased-v1\")"
   ]
  },
  {
   "cell_type": "code",
   "execution_count": 26,
   "metadata": {},
   "outputs": [
    {
     "name": "stdout",
     "output_type": "stream",
     "text": [
      "4\n",
      "2496\n",
      "Index(['id', 'url', 'headline', 'text', 'subjects', 'datePublished'], dtype='object')\n",
      "text        object\n",
      "subjects    object\n",
      "dtype: object\n",
      "11\n",
      "['urheilu', 'ulkomaat', 'kotimaa', 'kulttuuri', 'talous', 'luonto', 'politiikka', 'sää', 'kolumnit', 'tiede', 'oppiminen']\n"
     ]
    },
    {
     "name": "stderr",
     "output_type": "stream",
     "text": [
      "C:\\Users\\joakim\\AppData\\Local\\Temp\\ipykernel_2056\\212307127.py:3: ParserWarning: Falling back to the 'python' engine because the separator encoded in utf-8 is > 1 char long, and the 'c' engine does not support such separators; you can avoid this warning by specifying engine='python'.\n",
      "  df = pd.read_csv(dataSetPath, sep=\"␞\", nrows=2500)\n"
     ]
    }
   ],
   "source": [
    "# Loading dataset\n",
    "dataSetPath = \"2011-2018-3.csv\"\n",
    "df = pd.read_csv(dataSetPath, sep=\"␞\", nrows=2500)\n",
    "# df = pd.read_csv(dataSetPath, sep=\"␞\", nrows=10000)\n",
    "\n",
    "\n",
    "print(df['text'].isna().sum())\n",
    "df = df.dropna(subset=['text'])\n",
    "print(len(df))\n",
    "\n",
    "print(df.columns)\n",
    "df = df.drop(['id', 'url', 'headline', 'datePublished'], axis=1) \n",
    "\n",
    "def multiLabelToSingular(labelArray):\n",
    "    cleaned_text = labelArray.replace(\"'\", \"\").replace(\" \", \"\").replace(\"[\", \"\").replace(\"]\", \"\")\n",
    "    return cleaned_text.split(\",\")[0]\n",
    "\n",
    "print(df.dtypes)\n",
    "df['subjects'] = df['subjects'].apply(multiLabelToSingular)\n",
    "print(df['subjects'].nunique())\n",
    "print(df['subjects'].unique().tolist())\n",
    "\n",
    "df.rename({'subjects': 'labels'}, axis=\"columns\", inplace=True)\n",
    "\n",
    "le = preprocessing.LabelEncoder()\n",
    "le.fit(df.labels)\n",
    "df['labels'] = le.transform(df.labels)"
   ]
  },
  {
   "cell_type": "code",
   "execution_count": 27,
   "metadata": {},
   "outputs": [
    {
     "data": {
      "text/plain": [
       "Dataset({\n",
       "    features: ['text', 'labels'],\n",
       "    num_rows: 2496\n",
       "})"
      ]
     },
     "execution_count": 27,
     "metadata": {},
     "output_type": "execute_result"
    }
   ],
   "source": [
    "dataset = Dataset.from_pandas(df, preserve_index=False)\n",
    "dataset"
   ]
  },
  {
   "cell_type": "code",
   "execution_count": 28,
   "metadata": {},
   "outputs": [
    {
     "name": "stdout",
     "output_type": "stream",
     "text": [
      "DatasetDict({\n",
      "    train: Dataset({\n",
      "        features: ['text', 'labels'],\n",
      "        num_rows: 1796\n",
      "    })\n",
      "    validation: Dataset({\n",
      "        features: ['text', 'labels'],\n",
      "        num_rows: 200\n",
      "    })\n",
      "    test: Dataset({\n",
      "        features: ['text', 'labels'],\n",
      "        num_rows: 500\n",
      "    })\n",
      "})\n"
     ]
    }
   ],
   "source": [
    "\n",
    "train_test_split = dataset.train_test_split(test_size=0.2)\n",
    "\n",
    "train_valid_split = train_test_split['train'].train_test_split(test_size=0.1)\n",
    "\n",
    "datasets = DatasetDict({\n",
    "    'train': train_valid_split['train'],\n",
    "    'validation': train_valid_split['test'],\n",
    "    'test': train_test_split['test']\n",
    "})\n",
    "print(datasets)"
   ]
  },
  {
   "cell_type": "code",
   "execution_count": 29,
   "metadata": {},
   "outputs": [
    {
     "name": "stdout",
     "output_type": "stream",
     "text": [
      "{0, 1, 2, 3, 4, 5, 6, 7, 8, 9, 10}\n"
     ]
    }
   ],
   "source": [
    "unique_values = set(datasets[\"train\"][\"labels\"])\n",
    "print(unique_values)\n"
   ]
  },
  {
   "cell_type": "code",
   "execution_count": 30,
   "metadata": {},
   "outputs": [],
   "source": [
    "def tokenize_function(example):\n",
    "    tokenized = tokenizer(example[\"text\"], truncation=True)\n",
    "    # tokenized[\"labels\"] = [str2int[label] for label in tokenized[\"labels\"]]\n",
    "    return tokenized"
   ]
  },
  {
   "cell_type": "code",
   "execution_count": 31,
   "metadata": {},
   "outputs": [
    {
     "data": {
      "application/vnd.jupyter.widget-view+json": {
       "model_id": "6317336fae1e498f858337a4d08d5c9d",
       "version_major": 2,
       "version_minor": 0
      },
      "text/plain": [
       "Map:   0%|          | 0/1796 [00:00<?, ? examples/s]"
      ]
     },
     "metadata": {},
     "output_type": "display_data"
    },
    {
     "data": {
      "application/vnd.jupyter.widget-view+json": {
       "model_id": "2a0159f8b0324345aa9efa7584c03dc7",
       "version_major": 2,
       "version_minor": 0
      },
      "text/plain": [
       "Map:   0%|          | 0/200 [00:00<?, ? examples/s]"
      ]
     },
     "metadata": {},
     "output_type": "display_data"
    },
    {
     "data": {
      "application/vnd.jupyter.widget-view+json": {
       "model_id": "2abac621db0f4762915d01a65666a170",
       "version_major": 2,
       "version_minor": 0
      },
      "text/plain": [
       "Map:   0%|          | 0/500 [00:00<?, ? examples/s]"
      ]
     },
     "metadata": {},
     "output_type": "display_data"
    },
    {
     "data": {
      "text/plain": [
       "DatasetDict({\n",
       "    train: Dataset({\n",
       "        features: ['text', 'labels', 'input_ids', 'token_type_ids', 'attention_mask'],\n",
       "        num_rows: 1796\n",
       "    })\n",
       "    validation: Dataset({\n",
       "        features: ['text', 'labels', 'input_ids', 'token_type_ids', 'attention_mask'],\n",
       "        num_rows: 200\n",
       "    })\n",
       "    test: Dataset({\n",
       "        features: ['text', 'labels', 'input_ids', 'token_type_ids', 'attention_mask'],\n",
       "        num_rows: 500\n",
       "    })\n",
       "})"
      ]
     },
     "execution_count": 31,
     "metadata": {},
     "output_type": "execute_result"
    }
   ],
   "source": [
    "\n",
    "tokenized_datasets = datasets.map(tokenize_function, batched=True)\n",
    "data_collator = DataCollatorWithPadding(tokenizer=tokenizer)\n",
    "\n",
    "tokenized_datasets\n",
    "\n"
   ]
  },
  {
   "cell_type": "code",
   "execution_count": 32,
   "metadata": {},
   "outputs": [
    {
     "name": "stdout",
     "output_type": "stream",
     "text": [
      "[0, 0, 0, 0, 0, 0, 0, 0, 0, 0, 0, 0, 0, 0, 0, 0, 0, 0, 0, 0, 0, 0, 0, 0, 0, 0, 0, 0, 0, 0, 0, 0, 0, 0, 0, 0, 0, 0, 0, 0, 0, 0, 0, 0, 0, 0, 0, 0, 0, 0, 0, 0, 0, 0, 0, 0, 0, 0, 0, 0, 0, 0, 0, 0, 0, 0, 0, 0]\n",
      "[0, 0, 0, 0, 0, 0, 0, 0, 0, 0, 0, 0, 0, 0, 0, 0, 0, 0, 0, 0, 0, 0, 0, 0, 0, 0, 0, 0, 0, 0, 0, 0, 0, 0, 0, 0, 0, 0, 0, 0, 0, 0, 0, 0, 0, 0, 0, 0, 0, 0, 0, 0, 0, 0, 0, 0, 0, 0, 0, 0, 0, 0, 0, 0, 0, 0, 0, 0, 0, 0, 0, 0, 0, 0, 0, 0, 0, 0, 0, 0, 0, 0, 0, 0, 0, 0, 0, 0, 0, 0, 0, 0, 0, 0, 0, 0, 0, 0, 0, 0, 0, 0, 0, 0, 0, 0, 0, 0, 0, 0, 0, 0, 0, 0, 0, 0, 0, 0, 0, 0, 0, 0, 0, 0, 0, 0, 0, 0, 0, 0, 0, 0, 0, 0, 0, 0, 0, 0, 0, 0, 0, 0, 0, 0, 0, 0, 0, 0, 0, 0, 0, 0, 0, 0, 0, 0, 0, 0, 0, 0, 0, 0, 0, 0, 0, 0, 0, 0, 0, 0, 0, 0, 0, 0, 0, 0, 0, 0, 0, 0, 0, 0, 0, 0, 0, 0, 0, 0, 0, 0, 0, 0, 0, 0, 0, 0, 0, 0, 0, 0, 0, 0, 0, 0, 0, 0, 0, 0, 0, 0, 0, 0, 0, 0, 0, 0, 0, 0, 0, 0, 0, 0, 0, 0, 0, 0, 0, 0, 0, 0, 0, 0, 0, 0]\n"
     ]
    }
   ],
   "source": [
    "print(tokenized_datasets[\"train\"][0][\"token_type_ids\"])\n",
    "print(tokenized_datasets[\"train\"][1][\"token_type_ids\"])\n",
    "# print(tokenized_datasets[\"train\"][0][\"text\"])\n",
    "# print(tokenized_datasets[\"train\"][1][\"text\"])\n",
    "\n",
    "# tokenized_datasets[\"train\"][1]\n",
    "# tokenized_datasets[\"train\"][2]\n",
    "# tokenized_datasets[\"train\"][3]\n"
   ]
  },
  {
   "cell_type": "code",
   "execution_count": 33,
   "metadata": {},
   "outputs": [
    {
     "name": "stderr",
     "output_type": "stream",
     "text": [
      "Some weights of BertForSequenceClassification were not initialized from the model checkpoint at TurkuNLP/bert-base-finnish-cased-v1 and are newly initialized: ['classifier.weight', 'classifier.bias']\n",
      "You should probably TRAIN this model on a down-stream task to be able to use it for predictions and inference.\n"
     ]
    }
   ],
   "source": [
    "training_args = TrainingArguments(\"test\")\n",
    "model = AutoModelForSequenceClassification.from_pretrained(\"TurkuNLP/bert-base-finnish-cased-v1\", num_labels=11, device_map = 'cuda')"
   ]
  },
  {
   "cell_type": "code",
   "execution_count": 34,
   "metadata": {},
   "outputs": [
    {
     "name": "stderr",
     "output_type": "stream",
     "text": [
      "c:\\Users\\joakim\\anaconda3\\lib\\site-packages\\accelerate\\accelerator.py:432: FutureWarning: Passing the following arguments to `Accelerator` is deprecated and will be removed in version 1.0 of Accelerate: dict_keys(['dispatch_batches']). Please pass an `accelerate.DataLoaderConfiguration` instead: \n",
      "dataloader_config = DataLoaderConfiguration(dispatch_batches=None)\n",
      "  warnings.warn(\n"
     ]
    }
   ],
   "source": [
    "trainer = Trainer(\n",
    "    model,\n",
    "    training_args,\n",
    "    train_dataset=tokenized_datasets[\"train\"],\n",
    "    eval_dataset=tokenized_datasets[\"validation\"],\n",
    "    data_collator=data_collator,\n",
    "    tokenizer=tokenizer,\n",
    ")"
   ]
  },
  {
   "cell_type": "code",
   "execution_count": 35,
   "metadata": {},
   "outputs": [
    {
     "data": {
      "application/vnd.jupyter.widget-view+json": {
       "model_id": "3d450ec60ab547b9b4a9b61aa707fa78",
       "version_major": 2,
       "version_minor": 0
      },
      "text/plain": [
       "  0%|          | 0/675 [00:00<?, ?it/s]"
      ]
     },
     "metadata": {},
     "output_type": "display_data"
    },
    {
     "name": "stderr",
     "output_type": "stream",
     "text": [
      "You're using a BertTokenizerFast tokenizer. Please note that with a fast tokenizer, using the `__call__` method is faster than using a method to encode the text followed by a call to the `pad` method to get a padded encoding.\n"
     ]
    },
    {
     "name": "stdout",
     "output_type": "stream",
     "text": [
      "{'loss': 0.4805, 'learning_rate': 1.2962962962962962e-05, 'epoch': 2.22}\n",
      "{'train_runtime': 1818.0479, 'train_samples_per_second': 2.964, 'train_steps_per_second': 0.371, 'train_loss': 0.40458088627567995, 'epoch': 3.0}\n"
     ]
    },
    {
     "data": {
      "text/plain": [
       "TrainOutput(global_step=675, training_loss=0.40458088627567995, metrics={'train_runtime': 1818.0479, 'train_samples_per_second': 2.964, 'train_steps_per_second': 0.371, 'train_loss': 0.40458088627567995, 'epoch': 3.0})"
      ]
     },
     "execution_count": 35,
     "metadata": {},
     "output_type": "execute_result"
    }
   ],
   "source": [
    "trainer.train()"
   ]
  },
  {
   "cell_type": "code",
   "execution_count": 36,
   "metadata": {},
   "outputs": [
    {
     "data": {
      "application/vnd.jupyter.widget-view+json": {
       "model_id": "d6487d2b0b81417eb5fd7e01e39bf482",
       "version_major": 2,
       "version_minor": 0
      },
      "text/plain": [
       "  0%|          | 0/63 [00:00<?, ?it/s]"
      ]
     },
     "metadata": {},
     "output_type": "display_data"
    },
    {
     "name": "stdout",
     "output_type": "stream",
     "text": [
      "(500, 11) (500,)\n"
     ]
    }
   ],
   "source": [
    "predictions = trainer.predict(test_dataset=tokenized_datasets[\"test\"])\n",
    "print(predictions.predictions.shape, predictions.label_ids.shape)\n"
   ]
  },
  {
   "cell_type": "code",
   "execution_count": 37,
   "metadata": {},
   "outputs": [
    {
     "name": "stdout",
     "output_type": "stream",
     "text": [
      "[ 7  1 10  7 10  1  1  9 10  9  1  9 10  9 10  1  9  9  9  1  1  2  9  7\n",
      "  7  9  1  1  9  1 10  5  9 10 10  7  7 10 10  1 10  2  9 10 10  9  5  9\n",
      " 10  7  9 10  9  1  1 10 10 10  9 10  9  1 10 10  1 10  1 10  9  7  1 10\n",
      " 10  7  1  6 10 10 10 10 10 10 10 10  1  9 10  7  7  7 10  9 10  9  7  1\n",
      "  7 10 10 10  2 10  9 10  7  7 10 10  7  6  7  9  7  1  2  1 10 10  9  9\n",
      "  2 10 10 10  1  2  9  7 10 10 10  2 10  1  7  6  9 10 10 10  7  2 10 10\n",
      " 10 10  1  6  1 10  3 10 10 10 10  9  9  1 10  9 10 10  1  1 10  9  7 10\n",
      "  1 10  5  9 10  9  9 10 10 10 10  9  2  2  1 10  9  1  9 10 10 10  7  9\n",
      "  9  7  9 10 10  1  9 10  1 10 10 10  1  9 10  9  1 10  9  9  2 10  7  6\n",
      " 10 10 10  1  9 10  3  7  7 10 10 10  2  6 10 10 10 10  9 10  7  3  9  1\n",
      "  7  7  1 10 10 10 10  1  1  1  2  7  6 10  9  9 10 10 10  1  1  9  7  7\n",
      " 10 10  7 10 10  9  7  9 10  9 10  1  7 10  9  7  1 10  5 10  9 10 10  9\n",
      "  7  9  1  9  1 10  1  7  9  9  2  1  9 10  1  6  2  9  1 10 10  1 10 10\n",
      "  1  1  2  1 10 10  7 10  7 10 10  1  1  2  1 10  1  5  2 10  1  9 10  2\n",
      "  1 10  9 10 10  2  1  1 10  9  7 10 10 10 10  1  7  9  6 10 10  2 10  6\n",
      "  9 10  9  9  9  9 10  1  7 10  9  6 10  1  7  2 10  9  1  7  9 10 10 10\n",
      " 10 10  9 10 10 10  9  6  1 10  9  5 10  1  9 10 10 10 10  9  7  7  9  7\n",
      " 10 10  1  1  9  9  6  9  1  2  6  9 10 10  1 10  2 10  9  9 10 10  1  2\n",
      "  9  1  1 10 10 10  7 10 10 10  7  7  3  6  2 10  1 10 10  7  7  1  9  1\n",
      "  7  9  9  9  9  2  1 10 10 10  9  9  2  6  2  1 10 10  9  1  9  7 10 10\n",
      "  9 10 10 10  2 10  5 10  1  1 10 10  9  7 10  9  1  2  7 10]\n",
      "[ 7  7 10  7 10  7  1  9 10  9  1  9 10  9 10  1  1  9  9  1  1  2  9  7\n",
      "  9  9  7  1  9  8 10  7  9 10 10  7  7 10 10  1 10  2  9 10 10  9  5  9\n",
      " 10  7  9 10  9  1  1 10 10 10  9 10  9  1 10 10  1 10  1 10  9  7  1 10\n",
      " 10  7  7  6 10 10 10 10 10 10 10 10  1  9 10  7  7  7 10  9 10  9  2  1\n",
      "  7 10  1 10  2 10  9 10  7  7 10 10  7  6  1  9  7  1  2  1 10 10  9  9\n",
      "  2 10 10 10  1  3  9  7 10 10 10  1 10  7  7  6  2 10 10 10  1  2 10 10\n",
      " 10 10  1  1 10 10  3 10 10 10 10  9  9  1 10  9 10 10  1  1 10  9  7 10\n",
      "  9 10  7  9 10  9  9 10 10 10 10  9  1  2  1 10  9  1  9 10 10 10  7  9\n",
      "  9  7  9 10 10  1  9 10  1 10 10 10  1  9 10  2  1 10  9  9  1 10  7  6\n",
      " 10 10 10  1  9 10  3  7  7 10 10 10  1  1 10 10 10 10  9 10  1  7  9  1\n",
      "  7  7  1 10 10 10 10  1  1  1  2  1  6 10  9  9 10 10 10  7  1  9  7  1\n",
      " 10 10  7 10 10  9  7  9 10  9 10  1  7 10  9  7  1 10  5 10  9 10 10  9\n",
      "  7  9  1  9  1 10  1  5  9  9  2  1  9 10  1  6 10  9  1 10 10  1 10 10\n",
      "  1  1  1  1 10 10  7 10  1 10 10  1  1  1  1 10  1  5  2 10  6  9 10  2\n",
      "  1 10  9 10 10  1  9  1 10  9  7 10 10 10 10  8  7  9  6 10 10 10 10  1\n",
      "  9 10  9  9  9  9 10  2  7 10  9  6 10  1  1  2 10  9  8  1  9 10 10 10\n",
      " 10 10  9 10 10 10  9  1  1 10  9  2 10  1  9 10 10 10 10  9  1  7  9  7\n",
      " 10 10  3  1  9  9  1  9  1  2  1  9 10 10  1 10  2 10  9  9 10 10  7  5\n",
      "  9  1  1 10 10 10  7 10 10 10  7  7  6  6  2  6  1 10 10  7  9  1  9  1\n",
      "  7  9  9  9  9  2  1 10 10 10  9  9  2  6  2  7 10 10  9  7  9  7 10 10\n",
      "  9 10 10 10  7 10  2 10  2  4 10 10  9  7 10  9  1  1  1 10]\n"
     ]
    }
   ],
   "source": [
    "\n",
    "preds = np.argmax(predictions.predictions, axis=-1)\n",
    "print(preds)\n",
    "print(predictions.label_ids)\n"
   ]
  },
  {
   "cell_type": "code",
   "execution_count": 38,
   "metadata": {},
   "outputs": [
    {
     "name": "stdout",
     "output_type": "stream",
     "text": [
      "Accuracy: 0.872\n",
      "F1 Score: 0.872\n"
     ]
    }
   ],
   "source": [
    "# print(predictions.label_ids)\n",
    "\n",
    "accuracy = accuracy_score(tokenized_datasets[\"test\"][\"labels\"], preds)\n",
    "\n",
    "f1 = f1_score(tokenized_datasets[\"test\"][\"labels\"], preds, average=\"micro\")\n",
    "\n",
    "print(\"Accuracy:\", accuracy)\n",
    "print(\"F1 Score:\", f1)"
   ]
  },
  {
   "cell_type": "code",
   "execution_count": 39,
   "metadata": {},
   "outputs": [
    {
     "data": {
      "application/vnd.jupyter.widget-view+json": {
       "model_id": "42788515c0614812bdf0e880397230e1",
       "version_major": 2,
       "version_minor": 0
      },
      "text/plain": [
       "  0%|          | 0/63 [00:00<?, ?it/s]"
      ]
     },
     "metadata": {},
     "output_type": "display_data"
    },
    {
     "data": {
      "text/plain": [
       "{'eval_loss': 0.5640786290168762,\n",
       " 'eval_runtime': 77.7001,\n",
       " 'eval_samples_per_second': 6.435,\n",
       " 'eval_steps_per_second': 0.811,\n",
       " 'epoch': 3.0}"
      ]
     },
     "execution_count": 39,
     "metadata": {},
     "output_type": "execute_result"
    }
   ],
   "source": [
    "trainer.evaluate(tokenized_datasets[\"test\"])\n",
    "\n"
   ]
  }
 ],
 "metadata": {
  "kernelspec": {
   "display_name": "base",
   "language": "python",
   "name": "python3"
  },
  "language_info": {
   "codemirror_mode": {
    "name": "ipython",
    "version": 3
   },
   "file_extension": ".py",
   "mimetype": "text/x-python",
   "name": "python",
   "nbconvert_exporter": "python",
   "pygments_lexer": "ipython3",
   "version": "3.9.18"
  }
 },
 "nbformat": 4,
 "nbformat_minor": 2
}
